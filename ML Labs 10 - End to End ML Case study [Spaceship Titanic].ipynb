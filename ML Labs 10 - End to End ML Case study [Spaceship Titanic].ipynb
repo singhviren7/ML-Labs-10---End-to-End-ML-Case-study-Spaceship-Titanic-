{
 "cells": [
  {
   "cell_type": "markdown",
   "id": "d5533c2d",
   "metadata": {},
   "source": [
    "********************************************************************************************************************************\n",
    "# ML Lab 10 - End to End ML Case study [Spaceship Titanic]\n",
    "\n",
    "<hr/>\n",
    "\n",
    "By: **Virendra Singh** <br>\n",
    "Linkedin: https://www.linkedin.com/in/singhviren7/\n",
    "<hr/>"
   ]
  },
  {
   "cell_type": "markdown",
   "id": "40f1bb80",
   "metadata": {},
   "source": [
    "## Lab Overview  \n",
    "### Objectives\n",
    "\n",
    "- Load a Dataset, and compare at least two different algorithms and choose the best one\n",
    "- Use suitable Data Preprocessing and Feature Selection/Engineering Methods\n",
    "- Fine tune the model and hyper parameters and Finalise the Model\n",
    "- Make the model deployment-ready by giving User-Input provision"
   ]
  },
  {
   "cell_type": "markdown",
   "id": "b9f3f2e6",
   "metadata": {},
   "source": [
    "<hr>\n",
    "\n",
    "\n",
    "##### Kaggle - Spaceship Titanic\n",
    "\n",
    "\n",
    "##### Link: https://www.kaggle.com/competitions/spaceship-titanic/overview\n",
    "\n",
    "<hr>"
   ]
  },
  {
   "cell_type": "markdown",
   "id": "2837e41f",
   "metadata": {},
   "source": [
    "### Problem Definition\n",
    "- We have to explore on the data, data preprocessing and various features. \n",
    "- Data analysis EDA to be done with various visulization and dealing with odd features.\n",
    "- Chacking the effect of changing parameters and tuning model. \n",
    "- Comparing the accuracies, and provide visualizations and interpretations for the evaluation metrices."
   ]
  },
  {
   "cell_type": "markdown",
   "id": "38ecd812",
   "metadata": {},
   "source": [
    "### Approach\n",
    "`Data exploration is the first step of data analysis used to explore and visualize data to uncover insights from the start or identify areas or patterns to dig into more.`\n",
    "- First load the data and explore it's various features and parameters.\n",
    "- In EDA part using visulization various plota are drawn and different inshights are gathered.\n",
    "- Creating new features in data.\n",
    "- Preaper the data for modling. Using Descision Trees we will predict the values and find out the different parameters.\n",
    "- Applying the model before and after applying pca and lda.\n",
    "- Compare different values and explote the parameters of Different Algorithms.\n",
    "- Using the Ensembles, Cross Validation and Grid Search CV."
   ]
  },
  {
   "cell_type": "markdown",
   "id": "08eb3711",
   "metadata": {},
   "source": [
    "<hr>"
   ]
  },
  {
   "cell_type": "code",
   "execution_count": 1,
   "id": "6ce194cc",
   "metadata": {},
   "outputs": [],
   "source": [
    "# Importing the libraries.\n",
    "from pyforest import *\n",
    "import pandas as pd\n",
    "import numpy as np\n",
    "import matplotlib.pyplot as plt\n",
    "import seaborn as sns\n",
    "from mpl_toolkits.mplot3d import Axes3D\n",
    "%matplotlib inline\n",
    "\n",
    "from sklearn.model_selection import train_test_split\n",
    "from sklearn.tree import DecisionTreeClassifier\n",
    "\n",
    "#metrics\n",
    "from sklearn.metrics import accuracy_score\n",
    "from sklearn.metrics import confusion_matrix\n",
    "from sklearn.metrics import classification_report\n",
    "from sklearn.preprocessing import LabelEncoder\n",
    "from sklearn.preprocessing import StandardScaler\n",
    "\n",
    "import warnings\n",
    "warnings.filterwarnings('ignore')"
   ]
  },
  {
   "cell_type": "markdown",
   "id": "b71c65d0",
   "metadata": {},
   "source": [
    "## Dataset Information:\n",
    "- `In this competition your task is to predict whether a passenger was transported to an alternate dimension during the Spaceship Titanic's collision with the spacetime anomaly. To help you make these predictions, you're given a set of personal records recovered from the ship's damaged computer system.`\n",
    "\n",
    "##### Dataset Link: https://www.kaggle.com/competitions/spaceship-titanic/data\n",
    "\n",
    "\n",
    "#### File and Data Field Descriptions.\n",
    "- train.csv - Personal records for about two-thirds (~8700) of the passengers, to be used as training data.\n",
    "    - PassengerId - A unique Id for each passenger. Each Id takes the form gggg_pp where gggg indicates a group the passenger is travelling with and pp is their number within the group. People in a group are often family members, but not always.\n",
    "    - HomePlanet - The planet the passenger departed from, typically their planet of permanent residence.\n",
    "    - CryoSleep - Indicates whether the passenger elected to be put into suspended animation for the duration of the voyage. Passengers in cryosleep are confined to their cabins.\n",
    "    - Cabin - The cabin number where the passenger is staying. Takes the form deck/num/side, where side can be either P for Port or S for Starboard.\n",
    "    - Destination - The planet the passenger will be debarking to.\n",
    "    - Age - The age of the passenger.\n",
    "    - VIP - Whether the passenger has paid for special VIP service during the voyage.     \n",
    "    - RoomService, FoodCourt, ShoppingMall, Spa, VRDeck - Amount the passenger has billed at each of the Spaceship Titanic's many luxury amenities.\n",
    "    - Name - The first and last names of the passenger.   \n",
    "    - Transported - Whether the passenger was transported to another dimension. This is the target, the column you are trying to predict.\n",
    "- test.csv - Personal records for the remaining one-third (~4300) of the passengers, to be used as test data. Your task is to predict the value of Transported for the passengers in this set.\n",
    "- sample_submission.csv - A submission file in the correct format.\n",
    "    - PassengerId - Id for each passenger in the test set.   \n",
    "    - Transported - The target. For each passenger, predict either True or False."
   ]
  },
  {
   "cell_type": "markdown",
   "id": "8f7f4612",
   "metadata": {},
   "source": [
    "<hr>"
   ]
  },
  {
   "cell_type": "markdown",
   "id": "fb6c7722",
   "metadata": {},
   "source": [
    "### Loading the dataset:"
   ]
  },
  {
   "cell_type": "code",
   "execution_count": 2,
   "id": "6e62ed94",
   "metadata": {},
   "outputs": [],
   "source": [
    "df=pd.read_csv(\"train.csv\")"
   ]
  },
  {
   "cell_type": "code",
   "execution_count": 3,
   "id": "791a87b6",
   "metadata": {},
   "outputs": [
    {
     "data": {
      "text/html": [
       "<div>\n",
       "<style scoped>\n",
       "    .dataframe tbody tr th:only-of-type {\n",
       "        vertical-align: middle;\n",
       "    }\n",
       "\n",
       "    .dataframe tbody tr th {\n",
       "        vertical-align: top;\n",
       "    }\n",
       "\n",
       "    .dataframe thead th {\n",
       "        text-align: right;\n",
       "    }\n",
       "</style>\n",
       "<table border=\"1\" class=\"dataframe\">\n",
       "  <thead>\n",
       "    <tr style=\"text-align: right;\">\n",
       "      <th></th>\n",
       "      <th>PassengerId</th>\n",
       "      <th>HomePlanet</th>\n",
       "      <th>CryoSleep</th>\n",
       "      <th>Cabin</th>\n",
       "      <th>Destination</th>\n",
       "      <th>Age</th>\n",
       "      <th>VIP</th>\n",
       "      <th>RoomService</th>\n",
       "      <th>FoodCourt</th>\n",
       "      <th>ShoppingMall</th>\n",
       "      <th>Spa</th>\n",
       "      <th>VRDeck</th>\n",
       "      <th>Name</th>\n",
       "      <th>Transported</th>\n",
       "    </tr>\n",
       "  </thead>\n",
       "  <tbody>\n",
       "    <tr>\n",
       "      <th>0</th>\n",
       "      <td>0001_01</td>\n",
       "      <td>Europa</td>\n",
       "      <td>False</td>\n",
       "      <td>B/0/P</td>\n",
       "      <td>TRAPPIST-1e</td>\n",
       "      <td>39.0</td>\n",
       "      <td>False</td>\n",
       "      <td>0.0</td>\n",
       "      <td>0.0</td>\n",
       "      <td>0.0</td>\n",
       "      <td>0.0</td>\n",
       "      <td>0.0</td>\n",
       "      <td>Maham Ofracculy</td>\n",
       "      <td>False</td>\n",
       "    </tr>\n",
       "    <tr>\n",
       "      <th>1</th>\n",
       "      <td>0002_01</td>\n",
       "      <td>Earth</td>\n",
       "      <td>False</td>\n",
       "      <td>F/0/S</td>\n",
       "      <td>TRAPPIST-1e</td>\n",
       "      <td>24.0</td>\n",
       "      <td>False</td>\n",
       "      <td>109.0</td>\n",
       "      <td>9.0</td>\n",
       "      <td>25.0</td>\n",
       "      <td>549.0</td>\n",
       "      <td>44.0</td>\n",
       "      <td>Juanna Vines</td>\n",
       "      <td>True</td>\n",
       "    </tr>\n",
       "    <tr>\n",
       "      <th>2</th>\n",
       "      <td>0003_01</td>\n",
       "      <td>Europa</td>\n",
       "      <td>False</td>\n",
       "      <td>A/0/S</td>\n",
       "      <td>TRAPPIST-1e</td>\n",
       "      <td>58.0</td>\n",
       "      <td>True</td>\n",
       "      <td>43.0</td>\n",
       "      <td>3576.0</td>\n",
       "      <td>0.0</td>\n",
       "      <td>6715.0</td>\n",
       "      <td>49.0</td>\n",
       "      <td>Altark Susent</td>\n",
       "      <td>False</td>\n",
       "    </tr>\n",
       "    <tr>\n",
       "      <th>3</th>\n",
       "      <td>0003_02</td>\n",
       "      <td>Europa</td>\n",
       "      <td>False</td>\n",
       "      <td>A/0/S</td>\n",
       "      <td>TRAPPIST-1e</td>\n",
       "      <td>33.0</td>\n",
       "      <td>False</td>\n",
       "      <td>0.0</td>\n",
       "      <td>1283.0</td>\n",
       "      <td>371.0</td>\n",
       "      <td>3329.0</td>\n",
       "      <td>193.0</td>\n",
       "      <td>Solam Susent</td>\n",
       "      <td>False</td>\n",
       "    </tr>\n",
       "    <tr>\n",
       "      <th>4</th>\n",
       "      <td>0004_01</td>\n",
       "      <td>Earth</td>\n",
       "      <td>False</td>\n",
       "      <td>F/1/S</td>\n",
       "      <td>TRAPPIST-1e</td>\n",
       "      <td>16.0</td>\n",
       "      <td>False</td>\n",
       "      <td>303.0</td>\n",
       "      <td>70.0</td>\n",
       "      <td>151.0</td>\n",
       "      <td>565.0</td>\n",
       "      <td>2.0</td>\n",
       "      <td>Willy Santantines</td>\n",
       "      <td>True</td>\n",
       "    </tr>\n",
       "  </tbody>\n",
       "</table>\n",
       "</div>"
      ],
      "text/plain": [
       "  PassengerId HomePlanet CryoSleep  Cabin  Destination   Age    VIP  \\\n",
       "0     0001_01     Europa     False  B/0/P  TRAPPIST-1e  39.0  False   \n",
       "1     0002_01      Earth     False  F/0/S  TRAPPIST-1e  24.0  False   \n",
       "2     0003_01     Europa     False  A/0/S  TRAPPIST-1e  58.0   True   \n",
       "3     0003_02     Europa     False  A/0/S  TRAPPIST-1e  33.0  False   \n",
       "4     0004_01      Earth     False  F/1/S  TRAPPIST-1e  16.0  False   \n",
       "\n",
       "   RoomService  FoodCourt  ShoppingMall     Spa  VRDeck               Name  \\\n",
       "0          0.0        0.0           0.0     0.0     0.0    Maham Ofracculy   \n",
       "1        109.0        9.0          25.0   549.0    44.0       Juanna Vines   \n",
       "2         43.0     3576.0           0.0  6715.0    49.0      Altark Susent   \n",
       "3          0.0     1283.0         371.0  3329.0   193.0       Solam Susent   \n",
       "4        303.0       70.0         151.0   565.0     2.0  Willy Santantines   \n",
       "\n",
       "   Transported  \n",
       "0        False  \n",
       "1         True  \n",
       "2        False  \n",
       "3        False  \n",
       "4         True  "
      ]
     },
     "execution_count": 3,
     "metadata": {},
     "output_type": "execute_result"
    }
   ],
   "source": [
    "df.head()"
   ]
  },
  {
   "cell_type": "code",
   "execution_count": 4,
   "id": "1c3af7ba",
   "metadata": {},
   "outputs": [
    {
     "name": "stdout",
     "output_type": "stream",
     "text": [
      "Dataset Lenght::  8693\n",
      "Dataset Shape::  (8693, 14)\n"
     ]
    }
   ],
   "source": [
    "print (\"Dataset Lenght:: \", len(df))\n",
    "print (\"Dataset Shape:: \", df.shape)"
   ]
  },
  {
   "cell_type": "code",
   "execution_count": 5,
   "id": "4b8a9554",
   "metadata": {},
   "outputs": [
    {
     "data": {
      "text/html": [
       "<div>\n",
       "<style scoped>\n",
       "    .dataframe tbody tr th:only-of-type {\n",
       "        vertical-align: middle;\n",
       "    }\n",
       "\n",
       "    .dataframe tbody tr th {\n",
       "        vertical-align: top;\n",
       "    }\n",
       "\n",
       "    .dataframe thead th {\n",
       "        text-align: right;\n",
       "    }\n",
       "</style>\n",
       "<table border=\"1\" class=\"dataframe\">\n",
       "  <thead>\n",
       "    <tr style=\"text-align: right;\">\n",
       "      <th></th>\n",
       "      <th>Age</th>\n",
       "      <th>RoomService</th>\n",
       "      <th>FoodCourt</th>\n",
       "      <th>ShoppingMall</th>\n",
       "      <th>Spa</th>\n",
       "      <th>VRDeck</th>\n",
       "    </tr>\n",
       "  </thead>\n",
       "  <tbody>\n",
       "    <tr>\n",
       "      <th>count</th>\n",
       "      <td>8514.000000</td>\n",
       "      <td>8512.000000</td>\n",
       "      <td>8510.000000</td>\n",
       "      <td>8485.000000</td>\n",
       "      <td>8510.000000</td>\n",
       "      <td>8505.000000</td>\n",
       "    </tr>\n",
       "    <tr>\n",
       "      <th>mean</th>\n",
       "      <td>28.827930</td>\n",
       "      <td>224.687617</td>\n",
       "      <td>458.077203</td>\n",
       "      <td>173.729169</td>\n",
       "      <td>311.138778</td>\n",
       "      <td>304.854791</td>\n",
       "    </tr>\n",
       "    <tr>\n",
       "      <th>std</th>\n",
       "      <td>14.489021</td>\n",
       "      <td>666.717663</td>\n",
       "      <td>1611.489240</td>\n",
       "      <td>604.696458</td>\n",
       "      <td>1136.705535</td>\n",
       "      <td>1145.717189</td>\n",
       "    </tr>\n",
       "    <tr>\n",
       "      <th>min</th>\n",
       "      <td>0.000000</td>\n",
       "      <td>0.000000</td>\n",
       "      <td>0.000000</td>\n",
       "      <td>0.000000</td>\n",
       "      <td>0.000000</td>\n",
       "      <td>0.000000</td>\n",
       "    </tr>\n",
       "    <tr>\n",
       "      <th>25%</th>\n",
       "      <td>19.000000</td>\n",
       "      <td>0.000000</td>\n",
       "      <td>0.000000</td>\n",
       "      <td>0.000000</td>\n",
       "      <td>0.000000</td>\n",
       "      <td>0.000000</td>\n",
       "    </tr>\n",
       "    <tr>\n",
       "      <th>50%</th>\n",
       "      <td>27.000000</td>\n",
       "      <td>0.000000</td>\n",
       "      <td>0.000000</td>\n",
       "      <td>0.000000</td>\n",
       "      <td>0.000000</td>\n",
       "      <td>0.000000</td>\n",
       "    </tr>\n",
       "    <tr>\n",
       "      <th>75%</th>\n",
       "      <td>38.000000</td>\n",
       "      <td>47.000000</td>\n",
       "      <td>76.000000</td>\n",
       "      <td>27.000000</td>\n",
       "      <td>59.000000</td>\n",
       "      <td>46.000000</td>\n",
       "    </tr>\n",
       "    <tr>\n",
       "      <th>max</th>\n",
       "      <td>79.000000</td>\n",
       "      <td>14327.000000</td>\n",
       "      <td>29813.000000</td>\n",
       "      <td>23492.000000</td>\n",
       "      <td>22408.000000</td>\n",
       "      <td>24133.000000</td>\n",
       "    </tr>\n",
       "  </tbody>\n",
       "</table>\n",
       "</div>"
      ],
      "text/plain": [
       "               Age   RoomService     FoodCourt  ShoppingMall           Spa  \\\n",
       "count  8514.000000   8512.000000   8510.000000   8485.000000   8510.000000   \n",
       "mean     28.827930    224.687617    458.077203    173.729169    311.138778   \n",
       "std      14.489021    666.717663   1611.489240    604.696458   1136.705535   \n",
       "min       0.000000      0.000000      0.000000      0.000000      0.000000   \n",
       "25%      19.000000      0.000000      0.000000      0.000000      0.000000   \n",
       "50%      27.000000      0.000000      0.000000      0.000000      0.000000   \n",
       "75%      38.000000     47.000000     76.000000     27.000000     59.000000   \n",
       "max      79.000000  14327.000000  29813.000000  23492.000000  22408.000000   \n",
       "\n",
       "             VRDeck  \n",
       "count   8505.000000  \n",
       "mean     304.854791  \n",
       "std     1145.717189  \n",
       "min        0.000000  \n",
       "25%        0.000000  \n",
       "50%        0.000000  \n",
       "75%       46.000000  \n",
       "max    24133.000000  "
      ]
     },
     "execution_count": 5,
     "metadata": {},
     "output_type": "execute_result"
    }
   ],
   "source": [
    "df.describe() # Five number summary:"
   ]
  },
  {
   "cell_type": "code",
   "execution_count": 6,
   "id": "3211f77a",
   "metadata": {},
   "outputs": [
    {
     "name": "stdout",
     "output_type": "stream",
     "text": [
      "<class 'pandas.core.frame.DataFrame'>\n",
      "RangeIndex: 8693 entries, 0 to 8692\n",
      "Data columns (total 14 columns):\n",
      " #   Column        Non-Null Count  Dtype  \n",
      "---  ------        --------------  -----  \n",
      " 0   PassengerId   8693 non-null   object \n",
      " 1   HomePlanet    8492 non-null   object \n",
      " 2   CryoSleep     8476 non-null   object \n",
      " 3   Cabin         8494 non-null   object \n",
      " 4   Destination   8511 non-null   object \n",
      " 5   Age           8514 non-null   float64\n",
      " 6   VIP           8490 non-null   object \n",
      " 7   RoomService   8512 non-null   float64\n",
      " 8   FoodCourt     8510 non-null   float64\n",
      " 9   ShoppingMall  8485 non-null   float64\n",
      " 10  Spa           8510 non-null   float64\n",
      " 11  VRDeck        8505 non-null   float64\n",
      " 12  Name          8493 non-null   object \n",
      " 13  Transported   8693 non-null   bool   \n",
      "dtypes: bool(1), float64(6), object(7)\n",
      "memory usage: 891.5+ KB\n"
     ]
    }
   ],
   "source": [
    "df.info()"
   ]
  },
  {
   "cell_type": "markdown",
   "id": "d2c519ea",
   "metadata": {},
   "source": [
    "- Different features of categorical, int and float."
   ]
  },
  {
   "cell_type": "markdown",
   "id": "597f0680",
   "metadata": {},
   "source": [
    "#### Checking missing values:"
   ]
  },
  {
   "cell_type": "code",
   "execution_count": 7,
   "id": "00a35445",
   "metadata": {},
   "outputs": [
    {
     "data": {
      "text/plain": [
       "PassengerId       0\n",
       "HomePlanet      201\n",
       "CryoSleep       217\n",
       "Cabin           199\n",
       "Destination     182\n",
       "Age             179\n",
       "VIP             203\n",
       "RoomService     181\n",
       "FoodCourt       183\n",
       "ShoppingMall    208\n",
       "Spa             183\n",
       "VRDeck          188\n",
       "Name            200\n",
       "Transported       0\n",
       "dtype: int64"
      ]
     },
     "execution_count": 7,
     "metadata": {},
     "output_type": "execute_result"
    }
   ],
   "source": [
    "df.isnull().sum()"
   ]
  },
  {
   "cell_type": "markdown",
   "id": "30045a3f",
   "metadata": {},
   "source": [
    "There are number of missing values in dataset."
   ]
  },
  {
   "cell_type": "markdown",
   "id": "e9771b16",
   "metadata": {},
   "source": [
    "<hr>"
   ]
  },
  {
   "cell_type": "markdown",
   "id": "66d71d91",
   "metadata": {},
   "source": [
    "### Handling missing values:"
   ]
  },
  {
   "cell_type": "code",
   "execution_count": 8,
   "id": "80393e99",
   "metadata": {},
   "outputs": [
    {
     "data": {
      "text/plain": [
       "Earth     4602\n",
       "Europa    2131\n",
       "Mars      1759\n",
       "Name: HomePlanet, dtype: int64"
      ]
     },
     "execution_count": 8,
     "metadata": {},
     "output_type": "execute_result"
    }
   ],
   "source": [
    "df.HomePlanet.value_counts()"
   ]
  },
  {
   "cell_type": "code",
   "execution_count": 9,
   "id": "f3154622",
   "metadata": {},
   "outputs": [],
   "source": [
    "df.HomePlanet=df.HomePlanet.fillna(\"Earth\") # Filling with mode."
   ]
  },
  {
   "cell_type": "code",
   "execution_count": 10,
   "id": "144e186f",
   "metadata": {},
   "outputs": [
    {
     "data": {
      "text/plain": [
       "False    5439\n",
       "True     3037\n",
       "Name: CryoSleep, dtype: int64"
      ]
     },
     "execution_count": 10,
     "metadata": {},
     "output_type": "execute_result"
    }
   ],
   "source": [
    "df.CryoSleep.value_counts()"
   ]
  },
  {
   "cell_type": "code",
   "execution_count": 11,
   "id": "d28a799d",
   "metadata": {},
   "outputs": [],
   "source": [
    "df.CryoSleep=df.CryoSleep.fillna(False)    # Filling with mode."
   ]
  },
  {
   "cell_type": "code",
   "execution_count": 12,
   "id": "f3eacdbc",
   "metadata": {},
   "outputs": [
    {
     "data": {
      "text/plain": [
       "TRAPPIST-1e      5915\n",
       "55 Cancri e      1800\n",
       "PSO J318.5-22     796\n",
       "Name: Destination, dtype: int64"
      ]
     },
     "execution_count": 12,
     "metadata": {},
     "output_type": "execute_result"
    }
   ],
   "source": [
    "df.Destination.value_counts()"
   ]
  },
  {
   "cell_type": "code",
   "execution_count": 13,
   "id": "3782b538",
   "metadata": {},
   "outputs": [],
   "source": [
    "df.Destination=df.Destination.fillna(\"TRAPPIST-1e\")     # Filling with mode."
   ]
  },
  {
   "cell_type": "code",
   "execution_count": 14,
   "id": "b77fc8ad",
   "metadata": {},
   "outputs": [
    {
     "data": {
      "text/plain": [
       "count    8514.000000\n",
       "mean       28.827930\n",
       "std        14.489021\n",
       "min         0.000000\n",
       "25%        19.000000\n",
       "50%        27.000000\n",
       "75%        38.000000\n",
       "max        79.000000\n",
       "Name: Age, dtype: float64"
      ]
     },
     "execution_count": 14,
     "metadata": {},
     "output_type": "execute_result"
    }
   ],
   "source": [
    "df.Age.describe()"
   ]
  },
  {
   "cell_type": "code",
   "execution_count": 15,
   "id": "1b091480",
   "metadata": {},
   "outputs": [],
   "source": [
    "df.Age=df.Age.fillna(29)   # Filling with mean."
   ]
  },
  {
   "cell_type": "code",
   "execution_count": 16,
   "id": "9e5b283c",
   "metadata": {},
   "outputs": [
    {
     "data": {
      "text/plain": [
       "False    8291\n",
       "True      199\n",
       "Name: VIP, dtype: int64"
      ]
     },
     "execution_count": 16,
     "metadata": {},
     "output_type": "execute_result"
    }
   ],
   "source": [
    "df.VIP.value_counts()"
   ]
  },
  {
   "cell_type": "code",
   "execution_count": 17,
   "id": "4d26b01c",
   "metadata": {},
   "outputs": [],
   "source": [
    "df.VIP=df.VIP.fillna(False)    # Filling with mode."
   ]
  },
  {
   "cell_type": "code",
   "execution_count": 18,
   "id": "63b7a65a",
   "metadata": {},
   "outputs": [
    {
     "data": {
      "text/plain": [
       "count     8512.000000\n",
       "mean       224.687617\n",
       "std        666.717663\n",
       "min          0.000000\n",
       "25%          0.000000\n",
       "50%          0.000000\n",
       "75%         47.000000\n",
       "max      14327.000000\n",
       "Name: RoomService, dtype: float64"
      ]
     },
     "execution_count": 18,
     "metadata": {},
     "output_type": "execute_result"
    }
   ],
   "source": [
    "df.RoomService.describe()"
   ]
  },
  {
   "cell_type": "code",
   "execution_count": 19,
   "id": "f4e9d372",
   "metadata": {},
   "outputs": [
    {
     "data": {
      "text/html": [
       "<div>\n",
       "<style scoped>\n",
       "    .dataframe tbody tr th:only-of-type {\n",
       "        vertical-align: middle;\n",
       "    }\n",
       "\n",
       "    .dataframe tbody tr th {\n",
       "        vertical-align: top;\n",
       "    }\n",
       "\n",
       "    .dataframe thead th {\n",
       "        text-align: right;\n",
       "    }\n",
       "</style>\n",
       "<table border=\"1\" class=\"dataframe\">\n",
       "  <thead>\n",
       "    <tr style=\"text-align: right;\">\n",
       "      <th></th>\n",
       "      <th>Age</th>\n",
       "      <th>RoomService</th>\n",
       "      <th>FoodCourt</th>\n",
       "      <th>ShoppingMall</th>\n",
       "      <th>Spa</th>\n",
       "      <th>VRDeck</th>\n",
       "    </tr>\n",
       "  </thead>\n",
       "  <tbody>\n",
       "    <tr>\n",
       "      <th>count</th>\n",
       "      <td>8693.000000</td>\n",
       "      <td>8512.000000</td>\n",
       "      <td>8510.000000</td>\n",
       "      <td>8485.000000</td>\n",
       "      <td>8510.000000</td>\n",
       "      <td>8505.000000</td>\n",
       "    </tr>\n",
       "    <tr>\n",
       "      <th>mean</th>\n",
       "      <td>28.831474</td>\n",
       "      <td>224.687617</td>\n",
       "      <td>458.077203</td>\n",
       "      <td>173.729169</td>\n",
       "      <td>311.138778</td>\n",
       "      <td>304.854791</td>\n",
       "    </tr>\n",
       "    <tr>\n",
       "      <th>std</th>\n",
       "      <td>14.339075</td>\n",
       "      <td>666.717663</td>\n",
       "      <td>1611.489240</td>\n",
       "      <td>604.696458</td>\n",
       "      <td>1136.705535</td>\n",
       "      <td>1145.717189</td>\n",
       "    </tr>\n",
       "    <tr>\n",
       "      <th>min</th>\n",
       "      <td>0.000000</td>\n",
       "      <td>0.000000</td>\n",
       "      <td>0.000000</td>\n",
       "      <td>0.000000</td>\n",
       "      <td>0.000000</td>\n",
       "      <td>0.000000</td>\n",
       "    </tr>\n",
       "    <tr>\n",
       "      <th>25%</th>\n",
       "      <td>20.000000</td>\n",
       "      <td>0.000000</td>\n",
       "      <td>0.000000</td>\n",
       "      <td>0.000000</td>\n",
       "      <td>0.000000</td>\n",
       "      <td>0.000000</td>\n",
       "    </tr>\n",
       "    <tr>\n",
       "      <th>50%</th>\n",
       "      <td>27.000000</td>\n",
       "      <td>0.000000</td>\n",
       "      <td>0.000000</td>\n",
       "      <td>0.000000</td>\n",
       "      <td>0.000000</td>\n",
       "      <td>0.000000</td>\n",
       "    </tr>\n",
       "    <tr>\n",
       "      <th>75%</th>\n",
       "      <td>37.000000</td>\n",
       "      <td>47.000000</td>\n",
       "      <td>76.000000</td>\n",
       "      <td>27.000000</td>\n",
       "      <td>59.000000</td>\n",
       "      <td>46.000000</td>\n",
       "    </tr>\n",
       "    <tr>\n",
       "      <th>max</th>\n",
       "      <td>79.000000</td>\n",
       "      <td>14327.000000</td>\n",
       "      <td>29813.000000</td>\n",
       "      <td>23492.000000</td>\n",
       "      <td>22408.000000</td>\n",
       "      <td>24133.000000</td>\n",
       "    </tr>\n",
       "  </tbody>\n",
       "</table>\n",
       "</div>"
      ],
      "text/plain": [
       "               Age   RoomService     FoodCourt  ShoppingMall           Spa  \\\n",
       "count  8693.000000   8512.000000   8510.000000   8485.000000   8510.000000   \n",
       "mean     28.831474    224.687617    458.077203    173.729169    311.138778   \n",
       "std      14.339075    666.717663   1611.489240    604.696458   1136.705535   \n",
       "min       0.000000      0.000000      0.000000      0.000000      0.000000   \n",
       "25%      20.000000      0.000000      0.000000      0.000000      0.000000   \n",
       "50%      27.000000      0.000000      0.000000      0.000000      0.000000   \n",
       "75%      37.000000     47.000000     76.000000     27.000000     59.000000   \n",
       "max      79.000000  14327.000000  29813.000000  23492.000000  22408.000000   \n",
       "\n",
       "             VRDeck  \n",
       "count   8505.000000  \n",
       "mean     304.854791  \n",
       "std     1145.717189  \n",
       "min        0.000000  \n",
       "25%        0.000000  \n",
       "50%        0.000000  \n",
       "75%       46.000000  \n",
       "max    24133.000000  "
      ]
     },
     "execution_count": 19,
     "metadata": {},
     "output_type": "execute_result"
    }
   ],
   "source": [
    "df.describe()"
   ]
  },
  {
   "cell_type": "code",
   "execution_count": 20,
   "id": "42de5627",
   "metadata": {},
   "outputs": [],
   "source": [
    "# Filling with min.\n",
    "df.RoomService=df.RoomService.fillna(00.0)\n",
    "df.FoodCourt=df.FoodCourt.fillna(00.0)\n",
    "df.ShoppingMall=df.ShoppingMall.fillna(00.0)\n",
    "df.Spa=df.Spa.fillna(00.0)\n",
    "df.VRDeck=df.VRDeck.fillna(00.0)"
   ]
  },
  {
   "cell_type": "code",
   "execution_count": 21,
   "id": "7ca5e389",
   "metadata": {},
   "outputs": [],
   "source": [
    "df.Cabin=df.Cabin.fillna('G/160/P')    # Filling with mode."
   ]
  },
  {
   "cell_type": "code",
   "execution_count": 22,
   "id": "a46b177c",
   "metadata": {},
   "outputs": [],
   "source": [
    "# Changing datatype from bool to str:\n",
    "df.CryoSleep = df.CryoSleep.astype(\"str\")\n",
    "df.VIP = df.VIP.astype(\"str\")\n",
    "df.Transported = df.Transported.astype(\"str\")"
   ]
  },
  {
   "cell_type": "code",
   "execution_count": 23,
   "id": "b451f8a8",
   "metadata": {},
   "outputs": [
    {
     "data": {
      "image/png": "[encoded data removed]",
      "text/plain": [
       "<Figure size 432x288 with 1 Axes>"
      ]
     },
     "metadata": {
      "needs_background": "light"
     },
     "output_type": "display_data"
    }
   ],
   "source": [
    "# Checling Status in different planet:\n",
    "sns.countplot(x=\"HomePlanet\",hue=\"Transported\",data=df)\n",
    "plt.show()"
   ]
  },
  {
   "cell_type": "code",
   "execution_count": 24,
   "id": "76f3728e",
   "metadata": {},
   "outputs": [
    {
     "data": {
      "image/png": "[encoded data removed]",
      "text/plain": [
       "<Figure size 432x288 with 1 Axes>"
      ]
     },
     "metadata": {
      "needs_background": "light"
     },
     "output_type": "display_data"
    }
   ],
   "source": [
    "# Checling Status in different Deck:\n",
    "sns.countplot(x=\"Destination\",hue=\"Transported\",data=df)\n",
    "plt.show()"
   ]
  },
  {
   "cell_type": "code",
   "execution_count": 25,
   "id": "02b71449",
   "metadata": {},
   "outputs": [
    {
     "data": {
      "image/png": "[encoded data removed]",
      "text/plain": [
       "<Figure size 576x288 with 2 Axes>"
      ]
     },
     "metadata": {
      "needs_background": "light"
     },
     "output_type": "display_data"
    }
   ],
   "source": [
    "plt.figure(figsize=(8,4))\n",
    "corr=df[[\"Age\",\"RoomService\",\"FoodCourt\",\"ShoppingMall\",\"Spa\",\"VRDeck\"]].corr()\n",
    "sns.heatmap(corr,cmap=\"Greens\",annot=True)\n",
    "plt.show()"
   ]
  },
  {
   "cell_type": "code",
   "execution_count": 26,
   "id": "4ccf1ad2",
   "metadata": {},
   "outputs": [
    {
     "data": {
      "image/png": "[encoded data removed]",
      "text/plain": [
       "<Figure size 720x576 with 2 Axes>"
      ]
     },
     "metadata": {
      "needs_background": "light"
     },
     "output_type": "display_data"
    }
   ],
   "source": [
    "plt.figure(figsize=(10,8))\n",
    "sns.heatmap(df.corr(),cmap=\"Greens\",annot=True)\n",
    "plt.show()"
   ]
  },
  {
   "cell_type": "markdown",
   "id": "b9bb781c",
   "metadata": {},
   "source": [
    "<hr>"
   ]
  },
  {
   "cell_type": "markdown",
   "id": "cf130db0",
   "metadata": {},
   "source": [
    "- We can observe the corelation between various features\n",
    "   - CyroSleep and Transported."
   ]
  },
  {
   "cell_type": "code",
   "execution_count": 27,
   "id": "a455db2f",
   "metadata": {
    "scrolled": false
   },
   "outputs": [
    {
     "name": "stdout",
     "output_type": "stream",
     "text": [
      "<class 'pandas.core.frame.DataFrame'>\n",
      "RangeIndex: 8693 entries, 0 to 8692\n",
      "Data columns (total 14 columns):\n",
      " #   Column        Non-Null Count  Dtype  \n",
      "---  ------        --------------  -----  \n",
      " 0   PassengerId   8693 non-null   object \n",
      " 1   HomePlanet    8693 non-null   object \n",
      " 2   CryoSleep     8693 non-null   object \n",
      " 3   Cabin         8693 non-null   object \n",
      " 4   Destination   8693 non-null   object \n",
      " 5   Age           8693 non-null   float64\n",
      " 6   VIP           8693 non-null   object \n",
      " 7   RoomService   8693 non-null   float64\n",
      " 8   FoodCourt     8693 non-null   float64\n",
      " 9   ShoppingMall  8693 non-null   float64\n",
      " 10  Spa           8693 non-null   float64\n",
      " 11  VRDeck        8693 non-null   float64\n",
      " 12  Name          8493 non-null   object \n",
      " 13  Transported   8693 non-null   object \n",
      "dtypes: float64(6), object(8)\n",
      "memory usage: 950.9+ KB\n"
     ]
    }
   ],
   "source": [
    "df.info()"
   ]
  },
  {
   "cell_type": "code",
   "execution_count": 28,
   "id": "367c7bbf",
   "metadata": {
    "scrolled": false
   },
   "outputs": [
    {
     "data": {
      "text/plain": [
       "<Figure size 720x576 with 0 Axes>"
      ]
     },
     "metadata": {},
     "output_type": "display_data"
    },
    {
     "data": {
      "image/png": "[encoded data removed]",
      "text/plain": [
       "<Figure size 1147.12x1080 with 42 Axes>"
      ]
     },
     "metadata": {
      "needs_background": "light"
     },
     "output_type": "display_data"
    }
   ],
   "source": [
    "plt.figure(figsize=(10,8))\n",
    "sns.pairplot(df, hue='Transported')\n",
    "plt.show()"
   ]
  },
  {
   "cell_type": "markdown",
   "id": "1634f6fd",
   "metadata": {},
   "source": [
    "<hr>"
   ]
  },
  {
   "cell_type": "markdown",
   "id": "02d1375a",
   "metadata": {},
   "source": [
    "### Feature Engineering:\n",
    "#### Creating New Columns:"
   ]
  },
  {
   "cell_type": "markdown",
   "id": "704e78cc",
   "metadata": {},
   "source": [
    "- Cabin - The cabin number where the passenger is staying. Takes the form deck/num/side, where side can be either P for Port or S for Starboard.\n",
    "    - deck / num / side"
   ]
  },
  {
   "cell_type": "code",
   "execution_count": 29,
   "id": "53fbef12",
   "metadata": {},
   "outputs": [],
   "source": [
    "# Splitting Cabin Observation and creating two new columns named \"Deck\" and \"Side\".\n",
    "raw=df[\"Cabin\"].str.split(\"/\", n=2, expand=True)"
   ]
  },
  {
   "cell_type": "code",
   "execution_count": 30,
   "id": "54c1e84a",
   "metadata": {},
   "outputs": [],
   "source": [
    "df[\"Deck\"]=raw[0]\n",
    "df[\"Side\"]=raw[2]"
   ]
  },
  {
   "cell_type": "code",
   "execution_count": 31,
   "id": "0c301a20",
   "metadata": {},
   "outputs": [
    {
     "data": {
      "image/png": "[encoded data removed]",
      "text/plain": [
       "<Figure size 432x288 with 1 Axes>"
      ]
     },
     "metadata": {
      "needs_background": "light"
     },
     "output_type": "display_data"
    }
   ],
   "source": [
    "# Checling Status in different Deck:\n",
    "sns.countplot(x=\"Deck\",hue=\"Transported\",data=df)\n",
    "plt.show()"
   ]
  },
  {
   "cell_type": "code",
   "execution_count": 32,
   "id": "30d1d745",
   "metadata": {},
   "outputs": [
    {
     "data": {
      "image/png": "[encoded data removed]",
      "text/plain": [
       "<Figure size 432x288 with 1 Axes>"
      ]
     },
     "metadata": {
      "needs_background": "light"
     },
     "output_type": "display_data"
    }
   ],
   "source": [
    "# Checling Status in different Side:\n",
    "sns.countplot(x=\"Side\",hue=\"Transported\",data=df)\n",
    "plt.show()"
   ]
  },
  {
   "cell_type": "code",
   "execution_count": 33,
   "id": "0bccb55a",
   "metadata": {},
   "outputs": [
    {
     "data": {
      "text/html": [
       "<div>\n",
       "<style scoped>\n",
       "    .dataframe tbody tr th:only-of-type {\n",
       "        vertical-align: middle;\n",
       "    }\n",
       "\n",
       "    .dataframe tbody tr th {\n",
       "        vertical-align: top;\n",
       "    }\n",
       "\n",
       "    .dataframe thead th {\n",
       "        text-align: right;\n",
       "    }\n",
       "</style>\n",
       "<table border=\"1\" class=\"dataframe\">\n",
       "  <thead>\n",
       "    <tr style=\"text-align: right;\">\n",
       "      <th></th>\n",
       "      <th>PassengerId</th>\n",
       "      <th>HomePlanet</th>\n",
       "      <th>CryoSleep</th>\n",
       "      <th>Cabin</th>\n",
       "      <th>Destination</th>\n",
       "      <th>Age</th>\n",
       "      <th>VIP</th>\n",
       "      <th>RoomService</th>\n",
       "      <th>FoodCourt</th>\n",
       "      <th>ShoppingMall</th>\n",
       "      <th>Spa</th>\n",
       "      <th>VRDeck</th>\n",
       "      <th>Name</th>\n",
       "      <th>Transported</th>\n",
       "      <th>Deck</th>\n",
       "      <th>Side</th>\n",
       "    </tr>\n",
       "  </thead>\n",
       "  <tbody>\n",
       "    <tr>\n",
       "      <th>0</th>\n",
       "      <td>0001_01</td>\n",
       "      <td>Europa</td>\n",
       "      <td>False</td>\n",
       "      <td>B/0/P</td>\n",
       "      <td>TRAPPIST-1e</td>\n",
       "      <td>39.0</td>\n",
       "      <td>False</td>\n",
       "      <td>0.0</td>\n",
       "      <td>0.0</td>\n",
       "      <td>0.0</td>\n",
       "      <td>0.0</td>\n",
       "      <td>0.0</td>\n",
       "      <td>Maham Ofracculy</td>\n",
       "      <td>False</td>\n",
       "      <td>B</td>\n",
       "      <td>P</td>\n",
       "    </tr>\n",
       "    <tr>\n",
       "      <th>1</th>\n",
       "      <td>0002_01</td>\n",
       "      <td>Earth</td>\n",
       "      <td>False</td>\n",
       "      <td>F/0/S</td>\n",
       "      <td>TRAPPIST-1e</td>\n",
       "      <td>24.0</td>\n",
       "      <td>False</td>\n",
       "      <td>109.0</td>\n",
       "      <td>9.0</td>\n",
       "      <td>25.0</td>\n",
       "      <td>549.0</td>\n",
       "      <td>44.0</td>\n",
       "      <td>Juanna Vines</td>\n",
       "      <td>True</td>\n",
       "      <td>F</td>\n",
       "      <td>S</td>\n",
       "    </tr>\n",
       "    <tr>\n",
       "      <th>2</th>\n",
       "      <td>0003_01</td>\n",
       "      <td>Europa</td>\n",
       "      <td>False</td>\n",
       "      <td>A/0/S</td>\n",
       "      <td>TRAPPIST-1e</td>\n",
       "      <td>58.0</td>\n",
       "      <td>True</td>\n",
       "      <td>43.0</td>\n",
       "      <td>3576.0</td>\n",
       "      <td>0.0</td>\n",
       "      <td>6715.0</td>\n",
       "      <td>49.0</td>\n",
       "      <td>Altark Susent</td>\n",
       "      <td>False</td>\n",
       "      <td>A</td>\n",
       "      <td>S</td>\n",
       "    </tr>\n",
       "    <tr>\n",
       "      <th>3</th>\n",
       "      <td>0003_02</td>\n",
       "      <td>Europa</td>\n",
       "      <td>False</td>\n",
       "      <td>A/0/S</td>\n",
       "      <td>TRAPPIST-1e</td>\n",
       "      <td>33.0</td>\n",
       "      <td>False</td>\n",
       "      <td>0.0</td>\n",
       "      <td>1283.0</td>\n",
       "      <td>371.0</td>\n",
       "      <td>3329.0</td>\n",
       "      <td>193.0</td>\n",
       "      <td>Solam Susent</td>\n",
       "      <td>False</td>\n",
       "      <td>A</td>\n",
       "      <td>S</td>\n",
       "    </tr>\n",
       "    <tr>\n",
       "      <th>4</th>\n",
       "      <td>0004_01</td>\n",
       "      <td>Earth</td>\n",
       "      <td>False</td>\n",
       "      <td>F/1/S</td>\n",
       "      <td>TRAPPIST-1e</td>\n",
       "      <td>16.0</td>\n",
       "      <td>False</td>\n",
       "      <td>303.0</td>\n",
       "      <td>70.0</td>\n",
       "      <td>151.0</td>\n",
       "      <td>565.0</td>\n",
       "      <td>2.0</td>\n",
       "      <td>Willy Santantines</td>\n",
       "      <td>True</td>\n",
       "      <td>F</td>\n",
       "      <td>S</td>\n",
       "    </tr>\n",
       "  </tbody>\n",
       "</table>\n",
       "</div>"
      ],
      "text/plain": [
       "  PassengerId HomePlanet CryoSleep  Cabin  Destination   Age    VIP  \\\n",
       "0     0001_01     Europa     False  B/0/P  TRAPPIST-1e  39.0  False   \n",
       "1     0002_01      Earth     False  F/0/S  TRAPPIST-1e  24.0  False   \n",
       "2     0003_01     Europa     False  A/0/S  TRAPPIST-1e  58.0   True   \n",
       "3     0003_02     Europa     False  A/0/S  TRAPPIST-1e  33.0  False   \n",
       "4     0004_01      Earth     False  F/1/S  TRAPPIST-1e  16.0  False   \n",
       "\n",
       "   RoomService  FoodCourt  ShoppingMall     Spa  VRDeck               Name  \\\n",
       "0          0.0        0.0           0.0     0.0     0.0    Maham Ofracculy   \n",
       "1        109.0        9.0          25.0   549.0    44.0       Juanna Vines   \n",
       "2         43.0     3576.0           0.0  6715.0    49.0      Altark Susent   \n",
       "3          0.0     1283.0         371.0  3329.0   193.0       Solam Susent   \n",
       "4        303.0       70.0         151.0   565.0     2.0  Willy Santantines   \n",
       "\n",
       "  Transported Deck Side  \n",
       "0       False    B    P  \n",
       "1        True    F    S  \n",
       "2       False    A    S  \n",
       "3       False    A    S  \n",
       "4        True    F    S  "
      ]
     },
     "execution_count": 33,
     "metadata": {},
     "output_type": "execute_result"
    }
   ],
   "source": [
    "df.head()    # Checking."
   ]
  },
  {
   "cell_type": "code",
   "execution_count": 34,
   "id": "453fac14",
   "metadata": {},
   "outputs": [
    {
     "data": {
      "image/png": "[encoded data removed]",
      "text/plain": [
       "<Figure size 1440x576 with 5 Axes>"
      ]
     },
     "metadata": {
      "needs_background": "light"
     },
     "output_type": "display_data"
    }
   ],
   "source": [
    "plt.figure(figsize=(20,8))\n",
    "plt.subplot(151)\n",
    "\n",
    "# Different Spendings:\n",
    "plt.subplot(162)\n",
    "sns.violinplot(data=df[\"RoomService\"])\n",
    "\n",
    "plt.subplot(163)\n",
    "sns.violinplot(data=df[\"FoodCourt\"])\n",
    "\n",
    "plt.subplot(164)\n",
    "sns.violinplot(data=df[\"ShoppingMall\"])\n",
    "\n",
    "plt.subplot(165)\n",
    "sns.violinplot(data=df[\"Spa\"])\n",
    "\n",
    "plt.subplot(166)\n",
    "sns.violinplot(data=df[\"VRDeck\"])\n",
    "\n",
    "plt.show()"
   ]
  },
  {
   "cell_type": "markdown",
   "id": "9ac3db15",
   "metadata": {},
   "source": [
    "- Adding all the spending in the ship and creating a new column as \"TotalSpending\"."
   ]
  },
  {
   "cell_type": "code",
   "execution_count": 35,
   "id": "17be3be8",
   "metadata": {},
   "outputs": [],
   "source": [
    "df[\"TotalSpendings\"] = (df.RoomService + df.FoodCourt + df.ShoppingMall + df.Spa + df.VRDeck)"
   ]
  },
  {
   "cell_type": "code",
   "execution_count": 36,
   "id": "73cc8245",
   "metadata": {},
   "outputs": [],
   "source": [
    "df[\"TotalSpendings\"] = df[\"TotalSpendings\"].fillna(0.00)  # Filling Missing values with 0"
   ]
  },
  {
   "cell_type": "code",
   "execution_count": 37,
   "id": "e327c66e",
   "metadata": {},
   "outputs": [
    {
     "data": {
      "text/plain": [
       "PassengerId         0\n",
       "HomePlanet          0\n",
       "CryoSleep           0\n",
       "Cabin               0\n",
       "Destination         0\n",
       "Age                 0\n",
       "VIP                 0\n",
       "RoomService         0\n",
       "FoodCourt           0\n",
       "ShoppingMall        0\n",
       "Spa                 0\n",
       "VRDeck              0\n",
       "Name              200\n",
       "Transported         0\n",
       "Deck                0\n",
       "Side                0\n",
       "TotalSpendings      0\n",
       "dtype: int64"
      ]
     },
     "execution_count": 37,
     "metadata": {},
     "output_type": "execute_result"
    }
   ],
   "source": [
    "# Again checking missing values:\n",
    "df.isnull().sum()"
   ]
  },
  {
   "cell_type": "markdown",
   "id": "d3e260e7",
   "metadata": {},
   "source": [
    "- Only few missing values in feature \"Name\" which are mostly unique values. so, we will drop this feature further."
   ]
  },
  {
   "cell_type": "code",
   "execution_count": 38,
   "id": "26ab965a",
   "metadata": {},
   "outputs": [
    {
     "data": {
      "text/plain": [
       "count     8693.000000\n",
       "mean      1440.866329\n",
       "std       2803.045694\n",
       "min          0.000000\n",
       "25%          0.000000\n",
       "50%        716.000000\n",
       "75%       1441.000000\n",
       "max      35987.000000\n",
       "Name: TotalSpendings, dtype: float64"
      ]
     },
     "execution_count": 38,
     "metadata": {},
     "output_type": "execute_result"
    }
   ],
   "source": [
    "df[\"TotalSpendings\"].describe()"
   ]
  },
  {
   "cell_type": "code",
   "execution_count": 39,
   "id": "727c8118",
   "metadata": {},
   "outputs": [
    {
     "data": {
      "text/plain": [
       "3653"
      ]
     },
     "execution_count": 39,
     "metadata": {},
     "output_type": "execute_result"
    }
   ],
   "source": [
    "(df[\"TotalSpendings\"]==0).sum()"
   ]
  },
  {
   "cell_type": "markdown",
   "id": "f397414e",
   "metadata": {},
   "source": [
    "- We can observe that there are many values as 0 so, there is no spending at all. \n",
    "- Creating new feature as \"SpendingStatus\" which will tell that there is any spending or not."
   ]
  },
  {
   "cell_type": "code",
   "execution_count": 40,
   "id": "019c33df",
   "metadata": {},
   "outputs": [],
   "source": [
    "df[\"SpendingStatus\"] = np.where(df[\"TotalSpendings\"]==0, \"No\", \"Yes\")"
   ]
  },
  {
   "cell_type": "code",
   "execution_count": 41,
   "id": "a22ae637",
   "metadata": {},
   "outputs": [
    {
     "data": {
      "text/plain": [
       "Yes    5040\n",
       "No     3653\n",
       "Name: SpendingStatus, dtype: int64"
      ]
     },
     "execution_count": 41,
     "metadata": {},
     "output_type": "execute_result"
    }
   ],
   "source": [
    "df[\"SpendingStatus\"].value_counts()"
   ]
  },
  {
   "cell_type": "markdown",
   "id": "1f218c60",
   "metadata": {},
   "source": [
    "- Is_Single Feature. Returns Single if Passenger has no other Group Member.\n",
    "- So creating new feature as \"Is_Single\"."
   ]
  },
  {
   "cell_type": "code",
   "execution_count": 42,
   "id": "49c3dec5",
   "metadata": {},
   "outputs": [],
   "source": [
    "# Spliting the observations:\n",
    "df['GroupNumber'] = df.PassengerId.str.split('_').str[0]"
   ]
  },
  {
   "cell_type": "code",
   "execution_count": 43,
   "id": "68b837a1",
   "metadata": {},
   "outputs": [],
   "source": [
    "df[\"InGroupNumber\"] = df.PassengerId.str.split('_').str[1]"
   ]
  },
  {
   "cell_type": "code",
   "execution_count": 44,
   "id": "de75c038",
   "metadata": {},
   "outputs": [],
   "source": [
    "# Creating new categories as 'Single' and 'Not-Single'.\n",
    "x = df.groupby('GroupNumber').InGroupNumber.apply(lambda Z: 'Single' if Z.max() == '01' else 'Not-Single').reset_index()\n",
    "x.columns = ['GroupNumber', 'Is_Single']"
   ]
  },
  {
   "cell_type": "code",
   "execution_count": 45,
   "id": "513cc25a",
   "metadata": {},
   "outputs": [],
   "source": [
    "df = df.merge(x, on='GroupNumber')"
   ]
  },
  {
   "cell_type": "code",
   "execution_count": 46,
   "id": "817a1c57",
   "metadata": {},
   "outputs": [
    {
     "data": {
      "text/html": [
       "<div>\n",
       "<style scoped>\n",
       "    .dataframe tbody tr th:only-of-type {\n",
       "        vertical-align: middle;\n",
       "    }\n",
       "\n",
       "    .dataframe tbody tr th {\n",
       "        vertical-align: top;\n",
       "    }\n",
       "\n",
       "    .dataframe thead th {\n",
       "        text-align: right;\n",
       "    }\n",
       "</style>\n",
       "<table border=\"1\" class=\"dataframe\">\n",
       "  <thead>\n",
       "    <tr style=\"text-align: right;\">\n",
       "      <th></th>\n",
       "      <th>PassengerId</th>\n",
       "      <th>HomePlanet</th>\n",
       "      <th>CryoSleep</th>\n",
       "      <th>Cabin</th>\n",
       "      <th>Destination</th>\n",
       "      <th>Age</th>\n",
       "      <th>VIP</th>\n",
       "      <th>RoomService</th>\n",
       "      <th>FoodCourt</th>\n",
       "      <th>ShoppingMall</th>\n",
       "      <th>...</th>\n",
       "      <th>VRDeck</th>\n",
       "      <th>Name</th>\n",
       "      <th>Transported</th>\n",
       "      <th>Deck</th>\n",
       "      <th>Side</th>\n",
       "      <th>TotalSpendings</th>\n",
       "      <th>SpendingStatus</th>\n",
       "      <th>GroupNumber</th>\n",
       "      <th>InGroupNumber</th>\n",
       "      <th>Is_Single</th>\n",
       "    </tr>\n",
       "  </thead>\n",
       "  <tbody>\n",
       "    <tr>\n",
       "      <th>0</th>\n",
       "      <td>0001_01</td>\n",
       "      <td>Europa</td>\n",
       "      <td>False</td>\n",
       "      <td>B/0/P</td>\n",
       "      <td>TRAPPIST-1e</td>\n",
       "      <td>39.0</td>\n",
       "      <td>False</td>\n",
       "      <td>0.0</td>\n",
       "      <td>0.0</td>\n",
       "      <td>0.0</td>\n",
       "      <td>...</td>\n",
       "      <td>0.0</td>\n",
       "      <td>Maham Ofracculy</td>\n",
       "      <td>False</td>\n",
       "      <td>B</td>\n",
       "      <td>P</td>\n",
       "      <td>0.0</td>\n",
       "      <td>No</td>\n",
       "      <td>0001</td>\n",
       "      <td>01</td>\n",
       "      <td>Single</td>\n",
       "    </tr>\n",
       "    <tr>\n",
       "      <th>1</th>\n",
       "      <td>0002_01</td>\n",
       "      <td>Earth</td>\n",
       "      <td>False</td>\n",
       "      <td>F/0/S</td>\n",
       "      <td>TRAPPIST-1e</td>\n",
       "      <td>24.0</td>\n",
       "      <td>False</td>\n",
       "      <td>109.0</td>\n",
       "      <td>9.0</td>\n",
       "      <td>25.0</td>\n",
       "      <td>...</td>\n",
       "      <td>44.0</td>\n",
       "      <td>Juanna Vines</td>\n",
       "      <td>True</td>\n",
       "      <td>F</td>\n",
       "      <td>S</td>\n",
       "      <td>736.0</td>\n",
       "      <td>Yes</td>\n",
       "      <td>0002</td>\n",
       "      <td>01</td>\n",
       "      <td>Single</td>\n",
       "    </tr>\n",
       "  </tbody>\n",
       "</table>\n",
       "<p>2 rows × 21 columns</p>\n",
       "</div>"
      ],
      "text/plain": [
       "  PassengerId HomePlanet CryoSleep  Cabin  Destination   Age    VIP  \\\n",
       "0     0001_01     Europa     False  B/0/P  TRAPPIST-1e  39.0  False   \n",
       "1     0002_01      Earth     False  F/0/S  TRAPPIST-1e  24.0  False   \n",
       "\n",
       "   RoomService  FoodCourt  ShoppingMall  ...  VRDeck             Name  \\\n",
       "0          0.0        0.0           0.0  ...     0.0  Maham Ofracculy   \n",
       "1        109.0        9.0          25.0  ...    44.0     Juanna Vines   \n",
       "\n",
       "  Transported Deck Side TotalSpendings  SpendingStatus GroupNumber  \\\n",
       "0       False    B    P            0.0              No        0001   \n",
       "1        True    F    S          736.0             Yes        0002   \n",
       "\n",
       "  InGroupNumber Is_Single  \n",
       "0            01    Single  \n",
       "1            01    Single  \n",
       "\n",
       "[2 rows x 21 columns]"
      ]
     },
     "execution_count": 46,
     "metadata": {},
     "output_type": "execute_result"
    }
   ],
   "source": [
    "df.head(2) "
   ]
  },
  {
   "cell_type": "markdown",
   "id": "e8e65020",
   "metadata": {},
   "source": [
    "- Creating a feature as number of persons travelling and creating the group size as 'Small', 'Medium' and 'Large' in 'GroupSize' column."
   ]
  },
  {
   "cell_type": "code",
   "execution_count": 47,
   "id": "453d5237",
   "metadata": {},
   "outputs": [],
   "source": [
    "x = df.groupby('GroupNumber').InGroupNumber.apply(lambda Z: Z.max()).reset_index()\n",
    "x.columns = ['GroupNumber', 'GroupSize']\n",
    "df = df.merge(x, on='GroupNumber')"
   ]
  },
  {
   "cell_type": "code",
   "execution_count": 48,
   "id": "911c2afb",
   "metadata": {},
   "outputs": [],
   "source": [
    "df.GroupSize = df.GroupSize.astype(int)"
   ]
  },
  {
   "cell_type": "code",
   "execution_count": 49,
   "id": "2a2a1548",
   "metadata": {},
   "outputs": [],
   "source": [
    "df.GroupSize = pd.cut(df.GroupSize, 3, labels=['Small', 'Medium', 'Large'])"
   ]
  },
  {
   "cell_type": "code",
   "execution_count": 50,
   "id": "c72df91d",
   "metadata": {},
   "outputs": [
    {
     "data": {
      "text/plain": [
       "Small     7507\n",
       "Medium     677\n",
       "Large      509\n",
       "Name: GroupSize, dtype: int64"
      ]
     },
     "execution_count": 50,
     "metadata": {},
     "output_type": "execute_result"
    }
   ],
   "source": [
    "df.GroupSize.value_counts()"
   ]
  },
  {
   "cell_type": "markdown",
   "id": "952bd286",
   "metadata": {},
   "source": [
    "- Age:\n",
    "   - Binning the Age of passengers in different bins. Here 5 bins are created depending on the Age distributions."
   ]
  },
  {
   "cell_type": "code",
   "execution_count": 51,
   "id": "89332e1b",
   "metadata": {},
   "outputs": [
    {
     "data": {
      "image/png": "[encoded data removed]",
      "text/plain": [
       "<Figure size 432x288 with 1 Axes>"
      ]
     },
     "metadata": {
      "needs_background": "light"
     },
     "output_type": "display_data"
    }
   ],
   "source": [
    "sns.histplot(df[\"Age\"])\n",
    "plt.show()"
   ]
  },
  {
   "cell_type": "code",
   "execution_count": 52,
   "id": "55fbe379",
   "metadata": {},
   "outputs": [
    {
     "data": {
      "image/png": "[encoded data removed]",
      "text/plain": [
       "<Figure size 432x288 with 1 Axes>"
      ]
     },
     "metadata": {
      "needs_background": "light"
     },
     "output_type": "display_data"
    }
   ],
   "source": [
    "sns.histplot(df[\"Age\"],bins=5)\n",
    "plt.show()"
   ]
  },
  {
   "cell_type": "code",
   "execution_count": 53,
   "id": "0f97b605",
   "metadata": {},
   "outputs": [],
   "source": [
    "# Binning the Age\n",
    "df.Age = pd.qcut(df.Age, 5, labels=['A', 'B', 'C', 'D', 'E'])"
   ]
  },
  {
   "cell_type": "code",
   "execution_count": 54,
   "id": "b5d42f29",
   "metadata": {},
   "outputs": [
    {
     "data": {
      "text/html": [
       "<div>\n",
       "<style scoped>\n",
       "    .dataframe tbody tr th:only-of-type {\n",
       "        vertical-align: middle;\n",
       "    }\n",
       "\n",
       "    .dataframe tbody tr th {\n",
       "        vertical-align: top;\n",
       "    }\n",
       "\n",
       "    .dataframe thead th {\n",
       "        text-align: right;\n",
       "    }\n",
       "</style>\n",
       "<table border=\"1\" class=\"dataframe\">\n",
       "  <thead>\n",
       "    <tr style=\"text-align: right;\">\n",
       "      <th></th>\n",
       "      <th>PassengerId</th>\n",
       "      <th>HomePlanet</th>\n",
       "      <th>CryoSleep</th>\n",
       "      <th>Cabin</th>\n",
       "      <th>Destination</th>\n",
       "      <th>Age</th>\n",
       "      <th>VIP</th>\n",
       "      <th>RoomService</th>\n",
       "      <th>FoodCourt</th>\n",
       "      <th>ShoppingMall</th>\n",
       "      <th>...</th>\n",
       "      <th>Name</th>\n",
       "      <th>Transported</th>\n",
       "      <th>Deck</th>\n",
       "      <th>Side</th>\n",
       "      <th>TotalSpendings</th>\n",
       "      <th>SpendingStatus</th>\n",
       "      <th>GroupNumber</th>\n",
       "      <th>InGroupNumber</th>\n",
       "      <th>Is_Single</th>\n",
       "      <th>GroupSize</th>\n",
       "    </tr>\n",
       "  </thead>\n",
       "  <tbody>\n",
       "    <tr>\n",
       "      <th>0</th>\n",
       "      <td>0001_01</td>\n",
       "      <td>Europa</td>\n",
       "      <td>False</td>\n",
       "      <td>B/0/P</td>\n",
       "      <td>TRAPPIST-1e</td>\n",
       "      <td>D</td>\n",
       "      <td>False</td>\n",
       "      <td>0.0</td>\n",
       "      <td>0.0</td>\n",
       "      <td>0.0</td>\n",
       "      <td>...</td>\n",
       "      <td>Maham Ofracculy</td>\n",
       "      <td>False</td>\n",
       "      <td>B</td>\n",
       "      <td>P</td>\n",
       "      <td>0.0</td>\n",
       "      <td>No</td>\n",
       "      <td>0001</td>\n",
       "      <td>01</td>\n",
       "      <td>Single</td>\n",
       "      <td>Small</td>\n",
       "    </tr>\n",
       "    <tr>\n",
       "      <th>1</th>\n",
       "      <td>0002_01</td>\n",
       "      <td>Earth</td>\n",
       "      <td>False</td>\n",
       "      <td>F/0/S</td>\n",
       "      <td>TRAPPIST-1e</td>\n",
       "      <td>B</td>\n",
       "      <td>False</td>\n",
       "      <td>109.0</td>\n",
       "      <td>9.0</td>\n",
       "      <td>25.0</td>\n",
       "      <td>...</td>\n",
       "      <td>Juanna Vines</td>\n",
       "      <td>True</td>\n",
       "      <td>F</td>\n",
       "      <td>S</td>\n",
       "      <td>736.0</td>\n",
       "      <td>Yes</td>\n",
       "      <td>0002</td>\n",
       "      <td>01</td>\n",
       "      <td>Single</td>\n",
       "      <td>Small</td>\n",
       "    </tr>\n",
       "  </tbody>\n",
       "</table>\n",
       "<p>2 rows × 22 columns</p>\n",
       "</div>"
      ],
      "text/plain": [
       "  PassengerId HomePlanet CryoSleep  Cabin  Destination Age    VIP  \\\n",
       "0     0001_01     Europa     False  B/0/P  TRAPPIST-1e   D  False   \n",
       "1     0002_01      Earth     False  F/0/S  TRAPPIST-1e   B  False   \n",
       "\n",
       "   RoomService  FoodCourt  ShoppingMall  ...             Name  Transported  \\\n",
       "0          0.0        0.0           0.0  ...  Maham Ofracculy        False   \n",
       "1        109.0        9.0          25.0  ...     Juanna Vines         True   \n",
       "\n",
       "  Deck Side TotalSpendings SpendingStatus  GroupNumber InGroupNumber  \\\n",
       "0    B    P            0.0             No         0001            01   \n",
       "1    F    S          736.0            Yes         0002            01   \n",
       "\n",
       "  Is_Single GroupSize  \n",
       "0    Single     Small  \n",
       "1    Single     Small  \n",
       "\n",
       "[2 rows x 22 columns]"
      ]
     },
     "execution_count": 54,
     "metadata": {},
     "output_type": "execute_result"
    }
   ],
   "source": [
    "df.head(2)"
   ]
  },
  {
   "cell_type": "markdown",
   "id": "86410c9f",
   "metadata": {},
   "source": [
    "#### Scaling the numerical features:"
   ]
  },
  {
   "cell_type": "code",
   "execution_count": 55,
   "id": "76265943",
   "metadata": {},
   "outputs": [],
   "source": [
    "# StandartScaler for continous features\n",
    "df['RoomService'] = StandardScaler().fit_transform(np.array(df['RoomService']).reshape(-1, 1))\n",
    "df['FoodCourt'] = StandardScaler().fit_transform(np.array(df['FoodCourt']).reshape(-1, 1))\n",
    "df['ShoppingMall'] = StandardScaler().fit_transform(np.array(df['ShoppingMall']).reshape(-1, 1))\n",
    "df['Spa'] = StandardScaler().fit_transform(np.array(df['Spa']).reshape(-1, 1))\n",
    "df['VRDeck'] = StandardScaler().fit_transform(np.array(df['VRDeck']).reshape(-1, 1))\n",
    "df['TotalSpendings'] = StandardScaler().fit_transform(np.array(df['TotalSpendings']).reshape(-1, 1))"
   ]
  },
  {
   "cell_type": "code",
   "execution_count": 56,
   "id": "80b51c29",
   "metadata": {},
   "outputs": [
    {
     "data": {
      "text/html": [
       "<div>\n",
       "<style scoped>\n",
       "    .dataframe tbody tr th:only-of-type {\n",
       "        vertical-align: middle;\n",
       "    }\n",
       "\n",
       "    .dataframe tbody tr th {\n",
       "        vertical-align: top;\n",
       "    }\n",
       "\n",
       "    .dataframe thead th {\n",
       "        text-align: right;\n",
       "    }\n",
       "</style>\n",
       "<table border=\"1\" class=\"dataframe\">\n",
       "  <thead>\n",
       "    <tr style=\"text-align: right;\">\n",
       "      <th></th>\n",
       "      <th>PassengerId</th>\n",
       "      <th>HomePlanet</th>\n",
       "      <th>CryoSleep</th>\n",
       "      <th>Cabin</th>\n",
       "      <th>Destination</th>\n",
       "      <th>Age</th>\n",
       "      <th>VIP</th>\n",
       "      <th>RoomService</th>\n",
       "      <th>FoodCourt</th>\n",
       "      <th>ShoppingMall</th>\n",
       "      <th>...</th>\n",
       "      <th>Name</th>\n",
       "      <th>Transported</th>\n",
       "      <th>Deck</th>\n",
       "      <th>Side</th>\n",
       "      <th>TotalSpendings</th>\n",
       "      <th>SpendingStatus</th>\n",
       "      <th>GroupNumber</th>\n",
       "      <th>InGroupNumber</th>\n",
       "      <th>Is_Single</th>\n",
       "      <th>GroupSize</th>\n",
       "    </tr>\n",
       "  </thead>\n",
       "  <tbody>\n",
       "    <tr>\n",
       "      <th>0</th>\n",
       "      <td>0001_01</td>\n",
       "      <td>Europa</td>\n",
       "      <td>False</td>\n",
       "      <td>B/0/P</td>\n",
       "      <td>TRAPPIST-1e</td>\n",
       "      <td>D</td>\n",
       "      <td>False</td>\n",
       "      <td>-0.333105</td>\n",
       "      <td>-0.281027</td>\n",
       "      <td>-0.283579</td>\n",
       "      <td>...</td>\n",
       "      <td>Maham Ofracculy</td>\n",
       "      <td>False</td>\n",
       "      <td>B</td>\n",
       "      <td>P</td>\n",
       "      <td>-0.514066</td>\n",
       "      <td>No</td>\n",
       "      <td>0001</td>\n",
       "      <td>01</td>\n",
       "      <td>Single</td>\n",
       "      <td>Small</td>\n",
       "    </tr>\n",
       "    <tr>\n",
       "      <th>1</th>\n",
       "      <td>0002_01</td>\n",
       "      <td>Earth</td>\n",
       "      <td>False</td>\n",
       "      <td>F/0/S</td>\n",
       "      <td>TRAPPIST-1e</td>\n",
       "      <td>B</td>\n",
       "      <td>False</td>\n",
       "      <td>-0.168073</td>\n",
       "      <td>-0.275387</td>\n",
       "      <td>-0.241771</td>\n",
       "      <td>...</td>\n",
       "      <td>Juanna Vines</td>\n",
       "      <td>True</td>\n",
       "      <td>F</td>\n",
       "      <td>S</td>\n",
       "      <td>-0.251479</td>\n",
       "      <td>Yes</td>\n",
       "      <td>0002</td>\n",
       "      <td>01</td>\n",
       "      <td>Single</td>\n",
       "      <td>Small</td>\n",
       "    </tr>\n",
       "    <tr>\n",
       "      <th>2</th>\n",
       "      <td>0003_01</td>\n",
       "      <td>Europa</td>\n",
       "      <td>False</td>\n",
       "      <td>A/0/S</td>\n",
       "      <td>TRAPPIST-1e</td>\n",
       "      <td>E</td>\n",
       "      <td>True</td>\n",
       "      <td>-0.268001</td>\n",
       "      <td>1.959998</td>\n",
       "      <td>-0.283579</td>\n",
       "      <td>...</td>\n",
       "      <td>Altark Susent</td>\n",
       "      <td>False</td>\n",
       "      <td>A</td>\n",
       "      <td>S</td>\n",
       "      <td>3.190333</td>\n",
       "      <td>Yes</td>\n",
       "      <td>0003</td>\n",
       "      <td>01</td>\n",
       "      <td>Not-Single</td>\n",
       "      <td>Small</td>\n",
       "    </tr>\n",
       "  </tbody>\n",
       "</table>\n",
       "<p>3 rows × 22 columns</p>\n",
       "</div>"
      ],
      "text/plain": [
       "  PassengerId HomePlanet CryoSleep  Cabin  Destination Age    VIP  \\\n",
       "0     0001_01     Europa     False  B/0/P  TRAPPIST-1e   D  False   \n",
       "1     0002_01      Earth     False  F/0/S  TRAPPIST-1e   B  False   \n",
       "2     0003_01     Europa     False  A/0/S  TRAPPIST-1e   E   True   \n",
       "\n",
       "   RoomService  FoodCourt  ShoppingMall  ...             Name  Transported  \\\n",
       "0    -0.333105  -0.281027     -0.283579  ...  Maham Ofracculy        False   \n",
       "1    -0.168073  -0.275387     -0.241771  ...     Juanna Vines         True   \n",
       "2    -0.268001   1.959998     -0.283579  ...    Altark Susent        False   \n",
       "\n",
       "  Deck Side TotalSpendings SpendingStatus  GroupNumber InGroupNumber  \\\n",
       "0    B    P      -0.514066             No         0001            01   \n",
       "1    F    S      -0.251479            Yes         0002            01   \n",
       "2    A    S       3.190333            Yes         0003            01   \n",
       "\n",
       "    Is_Single GroupSize  \n",
       "0      Single     Small  \n",
       "1      Single     Small  \n",
       "2  Not-Single     Small  \n",
       "\n",
       "[3 rows x 22 columns]"
      ]
     },
     "execution_count": 56,
     "metadata": {},
     "output_type": "execute_result"
    }
   ],
   "source": [
    "df.head(3)"
   ]
  },
  {
   "cell_type": "code",
   "execution_count": 57,
   "id": "b3314421",
   "metadata": {},
   "outputs": [
    {
     "data": {
      "image/png": "[encoded data removed]",
      "text/plain": [
       "<Figure size 720x576 with 2 Axes>"
      ]
     },
     "metadata": {
      "needs_background": "light"
     },
     "output_type": "display_data"
    }
   ],
   "source": [
    "plt.figure(figsize=(10,8))\n",
    "sns.heatmap(df.corr(),cmap=\"Greens\",annot=True)\n",
    "plt.show()"
   ]
  },
  {
   "cell_type": "markdown",
   "id": "d7221d49",
   "metadata": {},
   "source": [
    "- We can observe the corelation between various features\n",
    "   - FoodCourt, Spa, VerDeck and TotalSpending\n",
    "   - CyroSleep and Transported."
   ]
  },
  {
   "cell_type": "markdown",
   "id": "52bbadec",
   "metadata": {},
   "source": [
    "<hr>"
   ]
  },
  {
   "cell_type": "markdown",
   "id": "c881ea7f",
   "metadata": {},
   "source": [
    "### Preapering for modeling:"
   ]
  },
  {
   "cell_type": "code",
   "execution_count": 58,
   "id": "1e6498d7",
   "metadata": {},
   "outputs": [],
   "source": [
    "from sklearn.preprocessing import LabelEncoder\n",
    "le = LabelEncoder()"
   ]
  },
  {
   "cell_type": "code",
   "execution_count": 59,
   "id": "e17b06a4",
   "metadata": {},
   "outputs": [],
   "source": [
    "# Target Variable:\n",
    "df[\"CryoSleep\"]=le.fit_transform(df[\"CryoSleep\"])\n",
    "df[\"VIP\"]=le.fit_transform(df[\"VIP\"])"
   ]
  },
  {
   "cell_type": "code",
   "execution_count": 60,
   "id": "d3392408",
   "metadata": {},
   "outputs": [],
   "source": [
    "df[\"Transported\"]=np.where(df[\"Transported\"]==\"True\", 1.0, 0.0)"
   ]
  },
  {
   "cell_type": "code",
   "execution_count": 61,
   "id": "53a09ca3",
   "metadata": {},
   "outputs": [
    {
     "data": {
      "text/plain": [
       "Index(['PassengerId', 'HomePlanet', 'CryoSleep', 'Cabin', 'Destination', 'Age',\n",
       "       'VIP', 'RoomService', 'FoodCourt', 'ShoppingMall', 'Spa', 'VRDeck',\n",
       "       'Name', 'Transported', 'Deck', 'Side', 'TotalSpendings',\n",
       "       'SpendingStatus', 'GroupNumber', 'InGroupNumber', 'Is_Single',\n",
       "       'GroupSize'],\n",
       "      dtype='object')"
      ]
     },
     "execution_count": 61,
     "metadata": {},
     "output_type": "execute_result"
    }
   ],
   "source": [
    "df.columns"
   ]
  },
  {
   "cell_type": "markdown",
   "id": "395b8cf6",
   "metadata": {},
   "source": [
    "- Dropping the columns:\n",
    "    - \"Cabin\", \"Name\", \"PassengerId\", \"RoomService\", \"FoodCourt\", \"ShoppingMall\", \"Spa\", \"VRDeck\"."
   ]
  },
  {
   "cell_type": "code",
   "execution_count": 62,
   "id": "274a8d47",
   "metadata": {},
   "outputs": [],
   "source": [
    "df=df.drop([\"Cabin\", \"Name\", \"PassengerId\", \"InGroupNumber\", \"GroupNumber\"], axis=1)"
   ]
  },
  {
   "cell_type": "code",
   "execution_count": 63,
   "id": "813ebf0c",
   "metadata": {},
   "outputs": [
    {
     "data": {
      "text/plain": [
       "Index(['HomePlanet', 'CryoSleep', 'Destination', 'Age', 'VIP', 'RoomService',\n",
       "       'FoodCourt', 'ShoppingMall', 'Spa', 'VRDeck', 'Transported', 'Deck',\n",
       "       'Side', 'TotalSpendings', 'SpendingStatus', 'Is_Single', 'GroupSize'],\n",
       "      dtype='object')"
      ]
     },
     "execution_count": 63,
     "metadata": {},
     "output_type": "execute_result"
    }
   ],
   "source": [
    "df.columns"
   ]
  },
  {
   "cell_type": "code",
   "execution_count": 64,
   "id": "fd0359d5",
   "metadata": {},
   "outputs": [
    {
     "data": {
      "text/html": [
       "<div>\n",
       "<style scoped>\n",
       "    .dataframe tbody tr th:only-of-type {\n",
       "        vertical-align: middle;\n",
       "    }\n",
       "\n",
       "    .dataframe tbody tr th {\n",
       "        vertical-align: top;\n",
       "    }\n",
       "\n",
       "    .dataframe thead th {\n",
       "        text-align: right;\n",
       "    }\n",
       "</style>\n",
       "<table border=\"1\" class=\"dataframe\">\n",
       "  <thead>\n",
       "    <tr style=\"text-align: right;\">\n",
       "      <th></th>\n",
       "      <th>HomePlanet</th>\n",
       "      <th>CryoSleep</th>\n",
       "      <th>Destination</th>\n",
       "      <th>Age</th>\n",
       "      <th>VIP</th>\n",
       "      <th>RoomService</th>\n",
       "      <th>FoodCourt</th>\n",
       "      <th>ShoppingMall</th>\n",
       "      <th>Spa</th>\n",
       "      <th>VRDeck</th>\n",
       "      <th>Transported</th>\n",
       "      <th>Deck</th>\n",
       "      <th>Side</th>\n",
       "      <th>TotalSpendings</th>\n",
       "      <th>SpendingStatus</th>\n",
       "      <th>Is_Single</th>\n",
       "      <th>GroupSize</th>\n",
       "    </tr>\n",
       "  </thead>\n",
       "  <tbody>\n",
       "    <tr>\n",
       "      <th>0</th>\n",
       "      <td>Europa</td>\n",
       "      <td>0</td>\n",
       "      <td>TRAPPIST-1e</td>\n",
       "      <td>D</td>\n",
       "      <td>0</td>\n",
       "      <td>-0.333105</td>\n",
       "      <td>-0.281027</td>\n",
       "      <td>-0.283579</td>\n",
       "      <td>-0.270626</td>\n",
       "      <td>-0.263003</td>\n",
       "      <td>0.0</td>\n",
       "      <td>B</td>\n",
       "      <td>P</td>\n",
       "      <td>-0.514066</td>\n",
       "      <td>No</td>\n",
       "      <td>Single</td>\n",
       "      <td>Small</td>\n",
       "    </tr>\n",
       "    <tr>\n",
       "      <th>1</th>\n",
       "      <td>Earth</td>\n",
       "      <td>0</td>\n",
       "      <td>TRAPPIST-1e</td>\n",
       "      <td>B</td>\n",
       "      <td>0</td>\n",
       "      <td>-0.168073</td>\n",
       "      <td>-0.275387</td>\n",
       "      <td>-0.241771</td>\n",
       "      <td>0.217158</td>\n",
       "      <td>-0.224205</td>\n",
       "      <td>1.0</td>\n",
       "      <td>F</td>\n",
       "      <td>S</td>\n",
       "      <td>-0.251479</td>\n",
       "      <td>Yes</td>\n",
       "      <td>Single</td>\n",
       "      <td>Small</td>\n",
       "    </tr>\n",
       "    <tr>\n",
       "      <th>2</th>\n",
       "      <td>Europa</td>\n",
       "      <td>0</td>\n",
       "      <td>TRAPPIST-1e</td>\n",
       "      <td>E</td>\n",
       "      <td>1</td>\n",
       "      <td>-0.268001</td>\n",
       "      <td>1.959998</td>\n",
       "      <td>-0.283579</td>\n",
       "      <td>5.695623</td>\n",
       "      <td>-0.219796</td>\n",
       "      <td>0.0</td>\n",
       "      <td>A</td>\n",
       "      <td>S</td>\n",
       "      <td>3.190333</td>\n",
       "      <td>Yes</td>\n",
       "      <td>Not-Single</td>\n",
       "      <td>Small</td>\n",
       "    </tr>\n",
       "  </tbody>\n",
       "</table>\n",
       "</div>"
      ],
      "text/plain": [
       "  HomePlanet  CryoSleep  Destination Age  VIP  RoomService  FoodCourt  \\\n",
       "0     Europa          0  TRAPPIST-1e   D    0    -0.333105  -0.281027   \n",
       "1      Earth          0  TRAPPIST-1e   B    0    -0.168073  -0.275387   \n",
       "2     Europa          0  TRAPPIST-1e   E    1    -0.268001   1.959998   \n",
       "\n",
       "   ShoppingMall       Spa    VRDeck  Transported Deck Side  TotalSpendings  \\\n",
       "0     -0.283579 -0.270626 -0.263003          0.0    B    P       -0.514066   \n",
       "1     -0.241771  0.217158 -0.224205          1.0    F    S       -0.251479   \n",
       "2     -0.283579  5.695623 -0.219796          0.0    A    S        3.190333   \n",
       "\n",
       "  SpendingStatus   Is_Single GroupSize  \n",
       "0             No      Single     Small  \n",
       "1            Yes      Single     Small  \n",
       "2            Yes  Not-Single     Small  "
      ]
     },
     "execution_count": 64,
     "metadata": {},
     "output_type": "execute_result"
    }
   ],
   "source": [
    "df.head(3)"
   ]
  },
  {
   "cell_type": "code",
   "execution_count": 65,
   "id": "10862af9",
   "metadata": {},
   "outputs": [],
   "source": [
    "### Preapering dataset:"
   ]
  },
  {
   "cell_type": "code",
   "execution_count": 66,
   "id": "0c841e4a",
   "metadata": {},
   "outputs": [],
   "source": [
    "# DV and IV:\n",
    "X1=df.drop(\"Transported\", axis=1)\n",
    "y1=df[\"Transported\"]"
   ]
  },
  {
   "cell_type": "code",
   "execution_count": 67,
   "id": "322e0e96",
   "metadata": {},
   "outputs": [],
   "source": [
    "# DV and IV:\n",
    "X2=df.drop(\"Transported\", axis=1)\n",
    "y2=df[\"Transported\"]   # for future use."
   ]
  },
  {
   "cell_type": "code",
   "execution_count": 68,
   "id": "08052836",
   "metadata": {},
   "outputs": [
    {
     "name": "stdout",
     "output_type": "stream",
     "text": [
      "(8693, 16)\n",
      "(8693,)\n"
     ]
    }
   ],
   "source": [
    "print(X1.shape)\n",
    "print(y1.shape)"
   ]
  },
  {
   "cell_type": "code",
   "execution_count": 69,
   "id": "876312d5",
   "metadata": {},
   "outputs": [],
   "source": [
    "# Encoding:\n",
    "# Creating the dummies of categorical variables:\n",
    "\n",
    "X1=pd.get_dummies(X1)"
   ]
  },
  {
   "cell_type": "code",
   "execution_count": 70,
   "id": "77cd2270",
   "metadata": {},
   "outputs": [
    {
     "data": {
      "text/plain": [
       "(8693, 36)"
      ]
     },
     "execution_count": 70,
     "metadata": {},
     "output_type": "execute_result"
    }
   ],
   "source": [
    "X1.shape"
   ]
  },
  {
   "cell_type": "code",
   "execution_count": 71,
   "id": "8be59731",
   "metadata": {},
   "outputs": [
    {
     "data": {
      "text/html": [
       "<div>\n",
       "<style scoped>\n",
       "    .dataframe tbody tr th:only-of-type {\n",
       "        vertical-align: middle;\n",
       "    }\n",
       "\n",
       "    .dataframe tbody tr th {\n",
       "        vertical-align: top;\n",
       "    }\n",
       "\n",
       "    .dataframe thead th {\n",
       "        text-align: right;\n",
       "    }\n",
       "</style>\n",
       "<table border=\"1\" class=\"dataframe\">\n",
       "  <thead>\n",
       "    <tr style=\"text-align: right;\">\n",
       "      <th></th>\n",
       "      <th>CryoSleep</th>\n",
       "      <th>VIP</th>\n",
       "      <th>RoomService</th>\n",
       "      <th>FoodCourt</th>\n",
       "      <th>ShoppingMall</th>\n",
       "      <th>Spa</th>\n",
       "      <th>VRDeck</th>\n",
       "      <th>TotalSpendings</th>\n",
       "      <th>HomePlanet_Earth</th>\n",
       "      <th>HomePlanet_Europa</th>\n",
       "      <th>...</th>\n",
       "      <th>Deck_T</th>\n",
       "      <th>Side_P</th>\n",
       "      <th>Side_S</th>\n",
       "      <th>SpendingStatus_No</th>\n",
       "      <th>SpendingStatus_Yes</th>\n",
       "      <th>Is_Single_Not-Single</th>\n",
       "      <th>Is_Single_Single</th>\n",
       "      <th>GroupSize_Small</th>\n",
       "      <th>GroupSize_Medium</th>\n",
       "      <th>GroupSize_Large</th>\n",
       "    </tr>\n",
       "  </thead>\n",
       "  <tbody>\n",
       "    <tr>\n",
       "      <th>0</th>\n",
       "      <td>0</td>\n",
       "      <td>0</td>\n",
       "      <td>-0.333105</td>\n",
       "      <td>-0.281027</td>\n",
       "      <td>-0.283579</td>\n",
       "      <td>-0.270626</td>\n",
       "      <td>-0.263003</td>\n",
       "      <td>-0.514066</td>\n",
       "      <td>0</td>\n",
       "      <td>1</td>\n",
       "      <td>...</td>\n",
       "      <td>0</td>\n",
       "      <td>1</td>\n",
       "      <td>0</td>\n",
       "      <td>1</td>\n",
       "      <td>0</td>\n",
       "      <td>0</td>\n",
       "      <td>1</td>\n",
       "      <td>1</td>\n",
       "      <td>0</td>\n",
       "      <td>0</td>\n",
       "    </tr>\n",
       "    <tr>\n",
       "      <th>1</th>\n",
       "      <td>0</td>\n",
       "      <td>0</td>\n",
       "      <td>-0.168073</td>\n",
       "      <td>-0.275387</td>\n",
       "      <td>-0.241771</td>\n",
       "      <td>0.217158</td>\n",
       "      <td>-0.224205</td>\n",
       "      <td>-0.251479</td>\n",
       "      <td>1</td>\n",
       "      <td>0</td>\n",
       "      <td>...</td>\n",
       "      <td>0</td>\n",
       "      <td>0</td>\n",
       "      <td>1</td>\n",
       "      <td>0</td>\n",
       "      <td>1</td>\n",
       "      <td>0</td>\n",
       "      <td>1</td>\n",
       "      <td>1</td>\n",
       "      <td>0</td>\n",
       "      <td>0</td>\n",
       "    </tr>\n",
       "  </tbody>\n",
       "</table>\n",
       "<p>2 rows × 36 columns</p>\n",
       "</div>"
      ],
      "text/plain": [
       "   CryoSleep  VIP  RoomService  FoodCourt  ShoppingMall       Spa    VRDeck  \\\n",
       "0          0    0    -0.333105  -0.281027     -0.283579 -0.270626 -0.263003   \n",
       "1          0    0    -0.168073  -0.275387     -0.241771  0.217158 -0.224205   \n",
       "\n",
       "   TotalSpendings  HomePlanet_Earth  HomePlanet_Europa  ...  Deck_T  Side_P  \\\n",
       "0       -0.514066                 0                  1  ...       0       1   \n",
       "1       -0.251479                 1                  0  ...       0       0   \n",
       "\n",
       "   Side_S  SpendingStatus_No  SpendingStatus_Yes  Is_Single_Not-Single  \\\n",
       "0       0                  1                   0                     0   \n",
       "1       1                  0                   1                     0   \n",
       "\n",
       "   Is_Single_Single  GroupSize_Small  GroupSize_Medium  GroupSize_Large  \n",
       "0                 1                1                 0                0  \n",
       "1                 1                1                 0                0  \n",
       "\n",
       "[2 rows x 36 columns]"
      ]
     },
     "execution_count": 71,
     "metadata": {},
     "output_type": "execute_result"
    }
   ],
   "source": [
    "X1.head(2)"
   ]
  },
  {
   "cell_type": "markdown",
   "id": "be5862d3",
   "metadata": {},
   "source": [
    "<hr>"
   ]
  },
  {
   "cell_type": "code",
   "execution_count": 72,
   "id": "9e2c4759",
   "metadata": {},
   "outputs": [],
   "source": [
    "# Calling the algorithm libraries:\n",
    "from sklearn.ensemble import RandomForestClassifier, BaggingClassifier, AdaBoostClassifier, GradientBoostingClassifier\n",
    "from sklearn.linear_model import LogisticRegression\n",
    "from sklearn.tree import DecisionTreeClassifier\n",
    "from sklearn.model_selection import train_test_split\n",
    "from sklearn.metrics import accuracy_score\n",
    "from xgboost import XGBClassifier\n",
    "import xgboost as xgb\n",
    "from sklearn.model_selection import GridSearchCV\n",
    "from sklearn.metrics import accuracy_score"
   ]
  },
  {
   "cell_type": "code",
   "execution_count": 73,
   "id": "f5583396",
   "metadata": {},
   "outputs": [],
   "source": [
    "lg = LogisticRegression()\n",
    "tree = DecisionTreeClassifier()\n",
    "rf = RandomForestClassifier()\n",
    "ada = AdaBoostClassifier()\n",
    "xgbo = XGBClassifier()\n",
    "gbm = GradientBoostingClassifier()"
   ]
  },
  {
   "cell_type": "code",
   "execution_count": 74,
   "id": "4d253f7a",
   "metadata": {},
   "outputs": [],
   "source": [
    "# Splitting the data in train and test:\n",
    "X_train, X_test , y_train, y_test = train_test_split(X1,y1, test_size = 0.20, random_state = 123)"
   ]
  },
  {
   "cell_type": "markdown",
   "id": "e050720f",
   "metadata": {},
   "source": [
    "### Modling:"
   ]
  },
  {
   "cell_type": "code",
   "execution_count": 75,
   "id": "14ba0a55",
   "metadata": {},
   "outputs": [
    {
     "name": "stdout",
     "output_type": "stream",
     "text": [
      "Model Accuracy Score: 80.74\n"
     ]
    }
   ],
   "source": [
    "# Logistic Regression\n",
    "lg=LogisticRegression()\n",
    "model_lg = lg.fit(X_train, y_train)\n",
    "pred_lg = lg.predict(X_test)\n",
    "accuracy_score(y_test, pred_lg)\n",
    "ac_lgl2 = round(accuracy_score(y_test, pred_lg)*100, 2)\n",
    "print(\"Model Accuracy Score:\",ac_lgl2)"
   ]
  },
  {
   "cell_type": "code",
   "execution_count": 76,
   "id": "8a0f7c97",
   "metadata": {},
   "outputs": [
    {
     "name": "stdout",
     "output_type": "stream",
     "text": [
      "Model Accuracy Score: 80.85\n"
     ]
    }
   ],
   "source": [
    "# Logistic Regression #l1\n",
    "lg = LogisticRegression(penalty='l1', solver='saga')\n",
    "model_lg = lg.fit(X_train, y_train)\n",
    "pred_lg = lg.predict(X_test)\n",
    "accuracy_score(y_test, pred_lg)\n",
    "ac_lgl1 = round(accuracy_score(y_test, pred_lg)*100, 2)\n",
    "print(\"Model Accuracy Score:\",ac_lgl1)"
   ]
  },
  {
   "cell_type": "code",
   "execution_count": 77,
   "id": "ab6ff17a",
   "metadata": {},
   "outputs": [
    {
     "name": "stdout",
     "output_type": "stream",
     "text": [
      "Model Accuracy Score: 74.99\n"
     ]
    }
   ],
   "source": [
    "# Decision Tree Model\n",
    "model_tree = tree.fit(X_train, y_train)\n",
    "pred_tree = tree.predict(X_test)\n",
    "accuracy_score(y_test, pred_tree)\n",
    "ac_dt1 = round(accuracy_score(y_test, pred_tree)*100, 2)\n",
    "print(\"Model Accuracy Score:\",ac_dt1)"
   ]
  },
  {
   "cell_type": "code",
   "execution_count": 78,
   "id": "30254bb7",
   "metadata": {},
   "outputs": [
    {
     "name": "stdout",
     "output_type": "stream",
     "text": [
      "Model Accuracy Score: 74.07\n"
     ]
    }
   ],
   "source": [
    "# Decision Tree Model\n",
    "dt = DecisionTreeClassifier(criterion='entropy')\n",
    "model_tree = tree.fit(X_train, y_train)\n",
    "pred_tree = tree.predict(X_test)\n",
    "accuracy_score(y_test, pred_tree)\n",
    "ac_dt2 = round(accuracy_score(y_test, pred_tree)*100, 2)\n",
    "print(\"Model Accuracy Score:\",ac_dt2)"
   ]
  },
  {
   "cell_type": "code",
   "execution_count": 79,
   "id": "6db75e7f",
   "metadata": {},
   "outputs": [
    {
     "name": "stdout",
     "output_type": "stream",
     "text": [
      "Model Accuracy Score: 80.05\n"
     ]
    }
   ],
   "source": [
    "# Random Forest\n",
    "model_rf = rf.fit(X_train, y_train)\n",
    "pred_rf = rf.predict(X_test)\n",
    "accuracy_score(y_test, pred_rf)\n",
    "ac_rf1 = round(accuracy_score(y_test, pred_rf)*100, 2)\n",
    "print(\"Model Accuracy Score:\",ac_rf1)"
   ]
  },
  {
   "cell_type": "code",
   "execution_count": 80,
   "id": "a36b53ae",
   "metadata": {},
   "outputs": [
    {
     "name": "stdout",
     "output_type": "stream",
     "text": [
      "Model Accuracy Score: 80.16\n"
     ]
    }
   ],
   "source": [
    "# Random Forest   #entropy\n",
    "rf = RandomForestClassifier(criterion='entropy')\n",
    "model_rf = rf.fit(X_train, y_train)\n",
    "pred_rf = rf.predict(X_test)\n",
    "accuracy_score(y_test, pred_rf)\n",
    "ac_rf2 = round(accuracy_score(y_test, pred_rf)*100, 2)\n",
    "print(\"Model Accuracy Score:\",ac_rf2)"
   ]
  },
  {
   "cell_type": "code",
   "execution_count": 81,
   "id": "ae37908f",
   "metadata": {},
   "outputs": [
    {
     "name": "stdout",
     "output_type": "stream",
     "text": [
      "Model Accuracy Score: 80.1\n"
     ]
    }
   ],
   "source": [
    "# ADABOOST MODEL\n",
    "model_ada = ada.fit(X_train, y_train)\n",
    "pred_ada = ada.predict(X_test)\n",
    "accuracy_score(y_test, pred_ada)\n",
    "ac_ada = round(accuracy_score(y_test, pred_ada)*100, 2)\n",
    "print(\"Model Accuracy Score:\",ac_ada)"
   ]
  },
  {
   "cell_type": "code",
   "execution_count": 82,
   "id": "4f8a4515",
   "metadata": {},
   "outputs": [
    {
     "name": "stdout",
     "output_type": "stream",
     "text": [
      "Model Accuracy Score: 81.43\n"
     ]
    }
   ],
   "source": [
    "# GBM MODEL\n",
    "model_gbm = gbm.fit(X_train, y_train)\n",
    "pred_gbm = gbm.predict(X_test)\n",
    "accuracy_score(y_test, pred_gbm)\n",
    "ac_gbm = round(accuracy_score(y_test, pred_gbm)*100, 2)\n",
    "print(\"Model Accuracy Score:\",ac_gbm)"
   ]
  },
  {
   "cell_type": "code",
   "execution_count": 83,
   "id": "51f0f9d7",
   "metadata": {},
   "outputs": [
    {
     "name": "stdout",
     "output_type": "stream",
     "text": [
      "[23:47:48] WARNING: C:/Users/Administrator/workspace/xgboost-win64_release_1.5.1/src/learner.cc:1115: Starting in XGBoost 1.3.0, the default evaluation metric used with the objective 'binary:logistic' was changed from 'error' to 'logloss'. Explicitly set eval_metric if you'd like to restore the old behavior.\n",
      "Model Accuracy Score: 80.74\n"
     ]
    }
   ],
   "source": [
    "# XGBOOST\n",
    "model_xgbo = xgbo.fit(X_train, y_train)\n",
    "pred_xgbo = xgbo.predict(X_test)\n",
    "accuracy_score(y_test, pred_xgbo)\n",
    "ac_xgbo = round(accuracy_score(y_test, pred_xgbo)*100, 2)\n",
    "print(\"Model Accuracy Score:\",ac_xgbo)"
   ]
  },
  {
   "cell_type": "code",
   "execution_count": 84,
   "id": "ccc0b556",
   "metadata": {},
   "outputs": [],
   "source": [
    "# Voting Classifire\n",
    "from sklearn.ensemble import VotingClassifier\n",
    "v = VotingClassifier(estimators=[(\"Logreg\", lg),(\"Trees\", tree),(\"RF\", rf), (\"ADA\", ada),(\"XG\", xgbo), (\"GBM\", gbm)])"
   ]
  },
  {
   "cell_type": "code",
   "execution_count": 85,
   "id": "e89674c9",
   "metadata": {},
   "outputs": [
    {
     "name": "stdout",
     "output_type": "stream",
     "text": [
      "[23:47:50] WARNING: C:/Users/Administrator/workspace/xgboost-win64_release_1.5.1/src/learner.cc:1115: Starting in XGBoost 1.3.0, the default evaluation metric used with the objective 'binary:logistic' was changed from 'error' to 'logloss'. Explicitly set eval_metric if you'd like to restore the old behavior.\n",
      "Model Accuracy Score: 81.66\n"
     ]
    }
   ],
   "source": [
    "newmodel_vc = v.fit(X_train, y_train)\n",
    "newmodel_pred = v.predict(X_test)\n",
    "accuracy_score(y_test, newmodel_pred)\n",
    "\n",
    "ac_vc = round(accuracy_score(y_test, newmodel_pred)*100, 2)\n",
    "print(\"Model Accuracy Score:\",ac_vc)"
   ]
  },
  {
   "cell_type": "code",
   "execution_count": 86,
   "id": "d9180db7",
   "metadata": {},
   "outputs": [],
   "source": [
    "# Stacking Classifire\n",
    "import lightgbm as lgb\n",
    "clflgb = lgb.LGBMClassifier()\n",
    "from sklearn.ensemble import StackingClassifier\n",
    "from sklearn.naive_bayes import GaussianNB"
   ]
  },
  {
   "cell_type": "code",
   "execution_count": 87,
   "id": "fdf9ce39",
   "metadata": {},
   "outputs": [],
   "source": [
    "level0 = list()\n",
    "level0.append(('RF', RandomForestClassifier()))\n",
    "\n",
    "level0.append(('LGBM', lgb.LGBMClassifier(boosting_type='gbdt', learning_rate=0.15,\n",
    "                              max_depth=15, n_estimators=30, num_leaves=35, random_state=123)))\n",
    "\n",
    "level0.append(('LR', LogisticRegression(solver='liblinear', random_state=13, max_iter=2000)))\n",
    "\n",
    "level1 = GaussianNB()\n",
    "model = StackingClassifier(estimators=level0, final_estimator=level1, cv=5)"
   ]
  },
  {
   "cell_type": "code",
   "execution_count": 88,
   "id": "fe4175a5",
   "metadata": {},
   "outputs": [
    {
     "name": "stdout",
     "output_type": "stream",
     "text": [
      "Model Accuracy Score: 81.37\n"
     ]
    }
   ],
   "source": [
    "model_sc = model.fit(X_train, y_train)\n",
    "pred_sc = model_sc.predict(X_test)\n",
    "accuracy_score(y_test, pred_sc)\n",
    "\n",
    "ac_sc = round(accuracy_score(y_test, pred_sc)*100, 2)\n",
    "print(\"Model Accuracy Score:\",ac_sc)"
   ]
  },
  {
   "cell_type": "markdown",
   "id": "e67fe59b",
   "metadata": {},
   "source": [
    "#### Comparing models:"
   ]
  },
  {
   "cell_type": "code",
   "execution_count": 89,
   "id": "ef5823f5",
   "metadata": {},
   "outputs": [
    {
     "data": {
      "text/html": [
       "<div>\n",
       "<style scoped>\n",
       "    .dataframe tbody tr th:only-of-type {\n",
       "        vertical-align: middle;\n",
       "    }\n",
       "\n",
       "    .dataframe tbody tr th {\n",
       "        vertical-align: top;\n",
       "    }\n",
       "\n",
       "    .dataframe thead th {\n",
       "        text-align: right;\n",
       "    }\n",
       "</style>\n",
       "<table border=\"1\" class=\"dataframe\">\n",
       "  <thead>\n",
       "    <tr style=\"text-align: right;\">\n",
       "      <th></th>\n",
       "      <th>Algorithm Name</th>\n",
       "      <th>Accuracy Score</th>\n",
       "    </tr>\n",
       "  </thead>\n",
       "  <tbody>\n",
       "    <tr>\n",
       "      <th>0</th>\n",
       "      <td>Logisric Regression l1</td>\n",
       "      <td>80.85</td>\n",
       "    </tr>\n",
       "    <tr>\n",
       "      <th>1</th>\n",
       "      <td>Logisric Regression l2</td>\n",
       "      <td>80.74</td>\n",
       "    </tr>\n",
       "    <tr>\n",
       "      <th>2</th>\n",
       "      <td>Decision Tree with 'gini'</td>\n",
       "      <td>74.99</td>\n",
       "    </tr>\n",
       "    <tr>\n",
       "      <th>3</th>\n",
       "      <td>Decision Tree with 'entropy'</td>\n",
       "      <td>74.07</td>\n",
       "    </tr>\n",
       "    <tr>\n",
       "      <th>4</th>\n",
       "      <td>Random Forest with 'gini'</td>\n",
       "      <td>80.05</td>\n",
       "    </tr>\n",
       "    <tr>\n",
       "      <th>5</th>\n",
       "      <td>Random Forest with 'entropy'</td>\n",
       "      <td>80.16</td>\n",
       "    </tr>\n",
       "    <tr>\n",
       "      <th>6</th>\n",
       "      <td>Adaboost</td>\n",
       "      <td>80.10</td>\n",
       "    </tr>\n",
       "    <tr>\n",
       "      <th>7</th>\n",
       "      <td>Light GBM</td>\n",
       "      <td>81.43</td>\n",
       "    </tr>\n",
       "    <tr>\n",
       "      <th>8</th>\n",
       "      <td>XGboost</td>\n",
       "      <td>80.74</td>\n",
       "    </tr>\n",
       "    <tr>\n",
       "      <th>9</th>\n",
       "      <td>Voting Classifire</td>\n",
       "      <td>81.66</td>\n",
       "    </tr>\n",
       "    <tr>\n",
       "      <th>10</th>\n",
       "      <td>Stacking Classifire</td>\n",
       "      <td>81.37</td>\n",
       "    </tr>\n",
       "  </tbody>\n",
       "</table>\n",
       "</div>"
      ],
      "text/plain": [
       "                   Algorithm Name  Accuracy Score\n",
       "0          Logisric Regression l1           80.85\n",
       "1          Logisric Regression l2           80.74\n",
       "2       Decision Tree with 'gini'           74.99\n",
       "3    Decision Tree with 'entropy'           74.07\n",
       "4      Random Forest with 'gini'            80.05\n",
       "5   Random Forest with 'entropy'            80.16\n",
       "6                        Adaboost           80.10\n",
       "7                       Light GBM           81.43\n",
       "8                         XGboost           80.74\n",
       "9               Voting Classifire           81.66\n",
       "10            Stacking Classifire           81.37"
      ]
     },
     "metadata": {},
     "output_type": "display_data"
    }
   ],
   "source": [
    "smry = pd.DataFrame()\n",
    "\n",
    "lgl1 = {\"Algorithm Name\":\"Logisric Regression l1\", \"Accuracy Score\":ac_lgl1}\n",
    "lgl2 = {\"Algorithm Name\":\"Logisric Regression l2\", \"Accuracy Score\":ac_lgl2}\n",
    "dt1 = {\"Algorithm Name\":\"Decision Tree with 'gini'\" , \"Accuracy Score\":ac_dt1}\n",
    "dt2 = {\"Algorithm Name\":\"Decision Tree with 'entropy'\" , \"Accuracy Score\":ac_dt2}\n",
    "rf1 = {\"Algorithm Name\":\"Random Forest with 'gini' \" , \"Accuracy Score\":ac_rf1}\n",
    "rf2 = {\"Algorithm Name\":\"Random Forest with 'entropy' \" , \"Accuracy Score\":ac_rf2}\n",
    "ada = {\"Algorithm Name\":\"Adaboost\", \"Accuracy Score\":ac_ada}\n",
    "gbm = {\"Algorithm Name\":\"Light GBM\", \"Accuracy Score\":ac_gbm}\n",
    "xgbo = {\"Algorithm Name\":\"XGboost\", \"Accuracy Score\":ac_xgbo}\n",
    "vc = {\"Algorithm Name\":\"Voting Classifire\", \"Accuracy Score\":ac_vc}\n",
    "sc = {\"Algorithm Name\":\"Stacking Classifire\", \"Accuracy Score\":ac_sc}\n",
    "\n",
    "algorithm=[lgl1, lgl2, dt1, dt2, rf1, rf2, ada, gbm, xgbo, vc, sc]\n",
    "\n",
    "for i in algorithm:\n",
    "    smry = smry.append(i, ignore_index=True)\n",
    "display(smry)"
   ]
  },
  {
   "cell_type": "markdown",
   "id": "f5f03335",
   "metadata": {},
   "source": [
    "- We can observe that the Logistic model, Random Forest and Ensemble Models are performing well on dataset.\n",
    "- Adaboost, Light GBM, XGboost and Voting Classifire, Stacking Classifire are working really well on dataset."
   ]
  },
  {
   "cell_type": "markdown",
   "id": "b50e6f4c",
   "metadata": {},
   "source": [
    "<hr>"
   ]
  },
  {
   "cell_type": "markdown",
   "id": "024d4b67",
   "metadata": {},
   "source": [
    "### PCA"
   ]
  },
  {
   "cell_type": "code",
   "execution_count": 90,
   "id": "c961a87d",
   "metadata": {},
   "outputs": [],
   "source": [
    "scaler = StandardScaler().fit(X1)\n",
    "X_standardised = scaler.transform(X1)"
   ]
  },
  {
   "cell_type": "code",
   "execution_count": 91,
   "id": "42e4962f",
   "metadata": {},
   "outputs": [
    {
     "data": {
      "text/plain": [
       "array([[-0.73277002, -0.15306307, -0.33310466, ...,  0.39747438,\n",
       "        -0.2906133 , -0.2493883 ],\n",
       "       [-0.73277002, -0.15306307, -0.16807343, ...,  0.39747438,\n",
       "        -0.2906133 , -0.2493883 ],\n",
       "       [-0.73277002,  6.53325471, -0.2680006 , ...,  0.39747438,\n",
       "        -0.2906133 , -0.2493883 ],\n",
       "       ...,\n",
       "       [-0.73277002, -0.15306307, -0.33310466, ...,  0.39747438,\n",
       "        -0.2906133 , -0.2493883 ],\n",
       "       [-0.73277002, -0.15306307, -0.33310466, ...,  0.39747438,\n",
       "        -0.2906133 , -0.2493883 ],\n",
       "       [-0.73277002, -0.15306307, -0.14233462, ...,  0.39747438,\n",
       "        -0.2906133 , -0.2493883 ]])"
      ]
     },
     "execution_count": 91,
     "metadata": {},
     "output_type": "execute_result"
    }
   ],
   "source": [
    "X_standardised"
   ]
  },
  {
   "cell_type": "code",
   "execution_count": 92,
   "id": "d04d1c96",
   "metadata": {},
   "outputs": [
    {
     "data": {
      "application/javascript": [
       "\n",
       "        if (window._pyforest_update_imports_cell) { window._pyforest_update_imports_cell('from sklearn.decomposition import PCA'); }\n",
       "    "
      ],
      "text/plain": [
       "<IPython.core.display.Javascript object>"
      ]
     },
     "metadata": {},
     "output_type": "display_data"
    }
   ],
   "source": [
    "principal_component_analysis = PCA(n_components = 3)\n",
    "results = principal_component_analysis.fit(X_standardised)\n",
    "results_transformed = results.transform(X_standardised)"
   ]
  },
  {
   "cell_type": "code",
   "execution_count": 93,
   "id": "4125421f",
   "metadata": {},
   "outputs": [
    {
     "data": {
      "text/html": [
       "<div>\n",
       "<style scoped>\n",
       "    .dataframe tbody tr th:only-of-type {\n",
       "        vertical-align: middle;\n",
       "    }\n",
       "\n",
       "    .dataframe tbody tr th {\n",
       "        vertical-align: top;\n",
       "    }\n",
       "\n",
       "    .dataframe thead th {\n",
       "        text-align: right;\n",
       "    }\n",
       "</style>\n",
       "<table border=\"1\" class=\"dataframe\">\n",
       "  <thead>\n",
       "    <tr style=\"text-align: right;\">\n",
       "      <th></th>\n",
       "      <th>0</th>\n",
       "      <th>1</th>\n",
       "      <th>2</th>\n",
       "    </tr>\n",
       "  </thead>\n",
       "  <tbody>\n",
       "    <tr>\n",
       "      <th>0</th>\n",
       "      <td>0.224287</td>\n",
       "      <td>1.075215</td>\n",
       "      <td>0.971380</td>\n",
       "    </tr>\n",
       "    <tr>\n",
       "      <th>1</th>\n",
       "      <td>0.066709</td>\n",
       "      <td>-2.728305</td>\n",
       "      <td>-0.032892</td>\n",
       "    </tr>\n",
       "    <tr>\n",
       "      <th>2</th>\n",
       "      <td>6.159136</td>\n",
       "      <td>2.000340</td>\n",
       "      <td>0.941683</td>\n",
       "    </tr>\n",
       "    <tr>\n",
       "      <th>3</th>\n",
       "      <td>3.630988</td>\n",
       "      <td>1.350295</td>\n",
       "      <td>0.167036</td>\n",
       "    </tr>\n",
       "    <tr>\n",
       "      <th>4</th>\n",
       "      <td>-0.175074</td>\n",
       "      <td>-2.154822</td>\n",
       "      <td>-0.407077</td>\n",
       "    </tr>\n",
       "  </tbody>\n",
       "</table>\n",
       "</div>"
      ],
      "text/plain": [
       "          0         1         2\n",
       "0  0.224287  1.075215  0.971380\n",
       "1  0.066709 -2.728305 -0.032892\n",
       "2  6.159136  2.000340  0.941683\n",
       "3  3.630988  1.350295  0.167036\n",
       "4 -0.175074 -2.154822 -0.407077"
      ]
     },
     "execution_count": 93,
     "metadata": {},
     "output_type": "execute_result"
    }
   ],
   "source": [
    "pca_df = pd.DataFrame(data = results_transformed)\n",
    "pca_df.head()"
   ]
  },
  {
   "cell_type": "code",
   "execution_count": 94,
   "id": "b0af35b6",
   "metadata": {},
   "outputs": [
    {
     "name": "stdout",
     "output_type": "stream",
     "text": [
      "Accuracy Score: 67.22\n"
     ]
    }
   ],
   "source": [
    "X_train, X_test, y_train, y_test = train_test_split(pca_df, y1, test_size=0.20, random_state=123)\n",
    "\n",
    "# Importing:\n",
    "from sklearn.tree import DecisionTreeClassifier\n",
    "dt=DecisionTreeClassifier()\n",
    "\n",
    "# Decision Tree Model\n",
    "model_pca = dt.fit(X_train, y_train)\n",
    "pred_pca = model_pca.predict(X_test)\n",
    "ac_dtpca = round(accuracy_score(y_test, pred_pca)*100, 2)\n",
    "\n",
    "print(\"Accuracy Score:\",ac_dtpca)"
   ]
  },
  {
   "cell_type": "code",
   "execution_count": 95,
   "id": "c4cb052f",
   "metadata": {},
   "outputs": [
    {
     "name": "stdout",
     "output_type": "stream",
     "text": [
      "Model Accuracy Score: 74.07\n"
     ]
    }
   ],
   "source": [
    "X_train, X_test, y_train, y_test = train_test_split(pca_df, y1, test_size=0.20, random_state=123)\n",
    "\n",
    "# Logistic Regression\n",
    "lg=LogisticRegression()\n",
    "model_lg = lg.fit(X_train, y_train)\n",
    "pred_lg = lg.predict(X_test)\n",
    "accuracy_score(y_test, pred_lg)\n",
    "ac_lgl1pca = round(accuracy_score(y_test, pred_lg)*100, 2)\n",
    "print(\"Model Accuracy Score:\",ac_lgl1pca)"
   ]
  },
  {
   "cell_type": "code",
   "execution_count": 96,
   "id": "aaea958f",
   "metadata": {},
   "outputs": [
    {
     "name": "stdout",
     "output_type": "stream",
     "text": [
      "Model Accuracy Score: 72.28\n"
     ]
    }
   ],
   "source": [
    "X_train, X_test, y_train, y_test = train_test_split(pca_df, y1, test_size=0.20, random_state=123)\n",
    "\n",
    "# Random Forest\n",
    "model_rf = rf.fit(X_train, y_train)\n",
    "pred_rf = rf.predict(X_test)\n",
    "accuracy_score(y_test, pred_rf)\n",
    "ac_rf1pca = round(accuracy_score(y_test, pred_rf)*100, 2)\n",
    "print(\"Model Accuracy Score:\",ac_rf1pca)"
   ]
  },
  {
   "cell_type": "code",
   "execution_count": 97,
   "id": "1b9920e1",
   "metadata": {},
   "outputs": [
    {
     "name": "stdout",
     "output_type": "stream",
     "text": [
      "****************************\n",
      "FINAL REPORT\n",
      "----------------------------\n",
      "Accuracy Score without PCA\n",
      "Decision Tree: 74.99\n",
      "Logistic Regression: 80.85\n",
      "Random Forest: 80.05\n",
      "----------------------------\n",
      "After applying PCA:\n",
      "Accuracy Score without PCA\n",
      "Decision Tree: 67.22\n",
      "Logistic Regression: 74.07\n",
      "Random Forest: 72.28\n",
      "****************************\n"
     ]
    }
   ],
   "source": [
    "print(\"*\" *28)\n",
    "print(\"FINAL REPORT\")\n",
    "print(\"-\" *28)\n",
    "print(\"Accuracy Score without PCA\")\n",
    "print(\"Decision Tree:\",ac_dt1)\n",
    "print(\"Logistic Regression:\", ac_lgl1)\n",
    "print(\"Random Forest:\", ac_rf1)\n",
    "print(\"-\" *28)\n",
    "print(\"After applying PCA:\")\n",
    "print(\"Accuracy Score without PCA\")\n",
    "print(\"Decision Tree:\",ac_dtpca)\n",
    "print(\"Logistic Regression:\", ac_lgl1pca)\n",
    "print(\"Random Forest:\", ac_rf1pca)\n",
    "print(\"*\" *28)"
   ]
  },
  {
   "cell_type": "markdown",
   "id": "3c963239",
   "metadata": {},
   "source": [
    "<hr>"
   ]
  },
  {
   "cell_type": "markdown",
   "id": "fa4f3110",
   "metadata": {},
   "source": [
    "### Hyperparameter tuning in Logistic Regression and Random Forest Algorithms:"
   ]
  },
  {
   "cell_type": "code",
   "execution_count": 98,
   "id": "e7ac1930",
   "metadata": {},
   "outputs": [
    {
     "name": "stdout",
     "output_type": "stream",
     "text": [
      "tuned hpyerparameters :(best parameters)  {'C': 1.0, 'penalty': 'l2'}\n",
      "accuracy : 0.7842929794095758\n"
     ]
    }
   ],
   "source": [
    "# Grid search cross validation\n",
    "X_train, X_test , y_train, y_test = train_test_split(X1,y1, test_size = 0.20, random_state = 123)\n",
    "\n",
    "from sklearn.model_selection import GridSearchCV\n",
    "from sklearn.linear_model import LogisticRegression\n",
    "\n",
    "grid={\"C\":np.logspace(-3,3,7), \"penalty\":[\"l1\",\"l2\"]}# l1 lasso l2 ridge\n",
    "logreg=LogisticRegression()\n",
    "logreg_cv=GridSearchCV(logreg,grid,cv=10)\n",
    "logreg_cv.fit(X_train,y_train)\n",
    "\n",
    "print(\"tuned hpyerparameters :(best parameters) \",logreg_cv.best_params_)\n",
    "print(\"accuracy :\",logreg_cv.best_score_)"
   ]
  },
  {
   "cell_type": "code",
   "execution_count": 99,
   "id": "bac3fff5",
   "metadata": {},
   "outputs": [
    {
     "name": "stdout",
     "output_type": "stream",
     "text": [
      "Accuracy Score:  0.8073605520414031\n"
     ]
    }
   ],
   "source": [
    "# Training with best parameters:\n",
    "logreg2=LogisticRegression(C=1,penalty=\"l2\")\n",
    "logreg2.fit(X_train,y_train)\n",
    "print(\"Accuracy Score: \",logreg2.score(X_test,y_test))"
   ]
  },
  {
   "cell_type": "markdown",
   "id": "62e4d1ea",
   "metadata": {},
   "source": [
    "<hr>"
   ]
  },
  {
   "cell_type": "code",
   "execution_count": 100,
   "id": "c857b86b",
   "metadata": {},
   "outputs": [
    {
     "data": {
      "text/plain": [
       "{'criterion': 'gini',\n",
       " 'max_depth': 8,\n",
       " 'max_features': 'auto',\n",
       " 'n_estimators': 500}"
      ]
     },
     "execution_count": 100,
     "metadata": {},
     "output_type": "execute_result"
    }
   ],
   "source": [
    "# Grid Search CV ~ Random Forest:\n",
    "X_train, X_test , y_train, y_test = train_test_split(X1,y1, test_size = 0.20, random_state = 123)\n",
    "\n",
    "rfc=RandomForestClassifier(random_state=42)\n",
    "param_grid = { \n",
    "    'n_estimators': [200, 500],\n",
    "    'max_features': ['auto', 'sqrt', 'log2'],\n",
    "    'max_depth' : [4,5,6,7,8],\n",
    "    'criterion' :['gini', 'entropy']\n",
    "}\n",
    "CV_rfc = GridSearchCV(estimator=rfc, param_grid=param_grid, cv= 5)\n",
    "CV_rfc.fit(X_train, y_train)\n",
    "CV_rfc.best_params_"
   ]
  },
  {
   "cell_type": "code",
   "execution_count": 101,
   "id": "716fe6c5",
   "metadata": {},
   "outputs": [
    {
     "name": "stdout",
     "output_type": "stream",
     "text": [
      "Accuracy for Random Forest on CV data:  81.14\n"
     ]
    }
   ],
   "source": [
    "# Fitting Best Parameters:\n",
    "rfc1=RandomForestClassifier(random_state=42, max_features='auto', n_estimators= 500, max_depth=8, criterion='gini')\n",
    "rfc1.fit(X_train, y_train)\n",
    "pred=rfc1.predict(X_test)\n",
    "ac_rfcv = accuracy_score(y_test,pred)\n",
    "print(\"Accuracy for Random Forest on CV data: \",round(ac_rfcv*100, 2))"
   ]
  },
  {
   "cell_type": "markdown",
   "id": "4bdea8e7",
   "metadata": {},
   "source": [
    "- Both the Algorithms are performing well on dataset."
   ]
  },
  {
   "cell_type": "markdown",
   "id": "76531880",
   "metadata": {},
   "source": [
    "<hr>"
   ]
  },
  {
   "cell_type": "markdown",
   "id": "ee0a87a0",
   "metadata": {},
   "source": [
    "### Feature Importance:"
   ]
  },
  {
   "cell_type": "code",
   "execution_count": 102,
   "id": "7cf52584",
   "metadata": {},
   "outputs": [
    {
     "name": "stdout",
     "output_type": "stream",
     "text": [
      "Feature: 0, Score: 0.05109\n",
      "Feature: 1, Score: 0.00234\n",
      "Feature: 2, Score: 0.07984\n",
      "Feature: 3, Score: 0.09467\n",
      "Feature: 4, Score: 0.08122\n",
      "Feature: 5, Score: 0.09522\n",
      "Feature: 6, Score: 0.08509\n",
      "Feature: 7, Score: 0.14274\n",
      "Feature: 8, Score: 0.02234\n",
      "Feature: 9, Score: 0.01332\n",
      "Feature: 10, Score: 0.01056\n",
      "Feature: 11, Score: 0.01063\n",
      "Feature: 12, Score: 0.00684\n",
      "Feature: 13, Score: 0.01199\n",
      "Feature: 14, Score: 0.01077\n",
      "Feature: 15, Score: 0.01223\n",
      "Feature: 16, Score: 0.01156\n",
      "Feature: 17, Score: 0.01106\n",
      "Feature: 18, Score: 0.01205\n",
      "Feature: 19, Score: 0.00256\n",
      "Feature: 20, Score: 0.00568\n",
      "Feature: 21, Score: 0.00655\n",
      "Feature: 22, Score: 0.00456\n",
      "Feature: 23, Score: 0.01863\n",
      "Feature: 24, Score: 0.01791\n",
      "Feature: 25, Score: 0.01917\n",
      "Feature: 26, Score: 0.00004\n",
      "Feature: 27, Score: 0.01259\n",
      "Feature: 28, Score: 0.01160\n",
      "Feature: 29, Score: 0.05004\n",
      "Feature: 30, Score: 0.04853\n",
      "Feature: 31, Score: 0.00923\n",
      "Feature: 32, Score: 0.00970\n",
      "Feature: 33, Score: 0.00691\n",
      "Feature: 34, Score: 0.00534\n",
      "Feature: 35, Score: 0.00542\n"
     ]
    },
    {
     "data": {
      "image/png": "[encoded data removed]",
      "text/plain": [
       "<Figure size 432x288 with 1 Axes>"
      ]
     },
     "metadata": {
      "needs_background": "light"
     },
     "output_type": "display_data"
    }
   ],
   "source": [
    "# random forest for feature importance on a classification problem\n",
    "from sklearn.datasets import make_classification\n",
    "from sklearn.ensemble import RandomForestClassifier\n",
    "from matplotlib import pyplot\n",
    "# define dataset\n",
    "X, y = make_classification(n_samples=1000, n_features=10, n_informative=5, n_redundant=5, random_state=1)\n",
    "# define the model\n",
    "model = RandomForestClassifier()\n",
    "# fit the model\n",
    "model.fit(X1, y1)\n",
    "# get importance\n",
    "importance = model.feature_importances_\n",
    "# summarize feature importance\n",
    "for i,v in enumerate(importance):\n",
    "    print('Feature: %0d, Score: %.5f' % (i,v))\n",
    "# plot feature importance\n",
    "pyplot.bar([x for x in range(len(importance))], importance)\n",
    "pyplot.show()"
   ]
  },
  {
   "cell_type": "markdown",
   "id": "1ab713f8",
   "metadata": {},
   "source": [
    "<hr>"
   ]
  },
  {
   "cell_type": "markdown",
   "id": "d7168736",
   "metadata": {},
   "source": [
    "### Prediction:"
   ]
  },
  {
   "cell_type": "code",
   "execution_count": 103,
   "id": "d78503e0",
   "metadata": {},
   "outputs": [],
   "source": [
    "# IV & DV:\n",
    "X2=df.drop(\"Transported\", axis=1)\n",
    "y2=df[\"Transported\"]"
   ]
  },
  {
   "cell_type": "code",
   "execution_count": 104,
   "id": "07d79e07",
   "metadata": {},
   "outputs": [],
   "source": [
    "# Using LbelEncoder for taking user input easily:\n",
    "from sklearn.preprocessing import LabelEncoder\n",
    "le = LabelEncoder()\n",
    "\n",
    "X2.HomePlanet = le.fit_transform(X2.HomePlanet)\n",
    "X2.Destination = le.fit_transform(X2.Destination )\n",
    "X2.Age= le.fit_transform(X2.Age)\n",
    "X2.Deck = le.fit_transform(X2.Deck)\n",
    "X2.Side = le.fit_transform(X2.Side)\n",
    "X2.SpendingStatus = le.fit_transform(X2.SpendingStatus)\n",
    "X2.Is_Single = le.fit_transform(X2.Is_Single)\n",
    "X2.GroupSize = le.fit_transform(X2.GroupSize)"
   ]
  },
  {
   "cell_type": "code",
   "execution_count": 112,
   "id": "4b3260da",
   "metadata": {},
   "outputs": [
    {
     "name": "stdout",
     "output_type": "stream",
     "text": [
      "Accuracy for Random Forest on CV data:  81.66\n"
     ]
    }
   ],
   "source": [
    "# Fitting Best Parameters:\n",
    "rfc1=RandomForestClassifier(random_state=42, max_features='auto', n_estimators= 500, max_depth=8, criterion='gini')\n",
    "rfc1.fit(X_train, y_train)\n",
    "pred=rfc1.predict(X_test)\n",
    "ac_rfcv = accuracy_score(y_test,pred)\n",
    "print(\"Accuracy for Random Forest on CV data: \",round(ac_rfcv*100, 2))"
   ]
  },
  {
   "cell_type": "markdown",
   "id": "d2cbc0ba",
   "metadata": {},
   "source": [
    "#### Taking User Input:"
   ]
  },
  {
   "cell_type": "code",
   "execution_count": 114,
   "id": "93a91087",
   "metadata": {},
   "outputs": [
    {
     "name": "stdout",
     "output_type": "stream",
     "text": [
      "Enter the number of Observations: 2\n",
      "Enter Code [0,1,2]: 0\n",
      "Enter Code [0,1]: 0\n",
      "Enter Code [0,1,2]: 0\n",
      "Enter Code [0,1,2,3,4]: 0\n",
      "Enter Code [0,1]: 0\n",
      "Enter Code [0,1,2,3,4,5,6,7]: 0\n",
      "Enter Code [0,1]: 0\n",
      "Enter Code [0,1]: 0\n",
      "Enter Code [0,1]: 0\n",
      "Enter Code [0,1,2]: 0\n",
      "Enter Code [0,1,2]: 0\n",
      "Enter Code [0,1]: 0\n",
      "Enter Code [0,1,2]: 0\n",
      "Enter Code [0,1,2,3,4]: 2\n",
      "Enter Code [0,1]: 1\n",
      "Enter Code [0,1,2,3,4,5,6,7]: 5\n",
      "Enter Code [0,1]: 1\n",
      "Enter Code [0,1]: 1\n",
      "Enter Code [0,1]: 1\n",
      "Enter Code [0,1,2]: 2\n"
     ]
    },
    {
     "data": {
      "text/html": [
       "<div>\n",
       "<style scoped>\n",
       "    .dataframe tbody tr th:only-of-type {\n",
       "        vertical-align: middle;\n",
       "    }\n",
       "\n",
       "    .dataframe tbody tr th {\n",
       "        vertical-align: top;\n",
       "    }\n",
       "\n",
       "    .dataframe thead th {\n",
       "        text-align: right;\n",
       "    }\n",
       "</style>\n",
       "<table border=\"1\" class=\"dataframe\">\n",
       "  <thead>\n",
       "    <tr style=\"text-align: right;\">\n",
       "      <th></th>\n",
       "      <th>HomePlanet</th>\n",
       "      <th>CryoSleep</th>\n",
       "      <th>Destination</th>\n",
       "      <th>Age</th>\n",
       "      <th>VIP</th>\n",
       "      <th>RoomService</th>\n",
       "      <th>FoodCourt</th>\n",
       "      <th>ShoppingMall</th>\n",
       "      <th>Spa</th>\n",
       "      <th>VRDeck</th>\n",
       "      <th>Deck</th>\n",
       "      <th>Side</th>\n",
       "      <th>TotalSpendings</th>\n",
       "      <th>SpendingStatus</th>\n",
       "      <th>Is_Single</th>\n",
       "      <th>GroupSize</th>\n",
       "    </tr>\n",
       "  </thead>\n",
       "  <tbody>\n",
       "    <tr>\n",
       "      <th>0</th>\n",
       "      <td>0.0</td>\n",
       "      <td>0.0</td>\n",
       "      <td>0.0</td>\n",
       "      <td>0.0</td>\n",
       "      <td>0.0</td>\n",
       "      <td>-3.556117e-16</td>\n",
       "      <td>-4.039357e-16</td>\n",
       "      <td>7.862111e-16</td>\n",
       "      <td>-3.202891e-16</td>\n",
       "      <td>2.648801e-17</td>\n",
       "      <td>0.0</td>\n",
       "      <td>0.0</td>\n",
       "      <td>-1.712653e-16</td>\n",
       "      <td>0.0</td>\n",
       "      <td>0.0</td>\n",
       "      <td>0.0</td>\n",
       "    </tr>\n",
       "    <tr>\n",
       "      <th>1</th>\n",
       "      <td>0.0</td>\n",
       "      <td>0.0</td>\n",
       "      <td>0.0</td>\n",
       "      <td>2.0</td>\n",
       "      <td>1.0</td>\n",
       "      <td>-3.556117e-16</td>\n",
       "      <td>-4.039357e-16</td>\n",
       "      <td>7.862111e-16</td>\n",
       "      <td>-3.202891e-16</td>\n",
       "      <td>2.648801e-17</td>\n",
       "      <td>5.0</td>\n",
       "      <td>1.0</td>\n",
       "      <td>-1.712653e-16</td>\n",
       "      <td>1.0</td>\n",
       "      <td>1.0</td>\n",
       "      <td>2.0</td>\n",
       "    </tr>\n",
       "  </tbody>\n",
       "</table>\n",
       "</div>"
      ],
      "text/plain": [
       "   HomePlanet  CryoSleep  Destination  Age  VIP   RoomService     FoodCourt  \\\n",
       "0         0.0        0.0          0.0  0.0  0.0 -3.556117e-16 -4.039357e-16   \n",
       "1         0.0        0.0          0.0  2.0  1.0 -3.556117e-16 -4.039357e-16   \n",
       "\n",
       "   ShoppingMall           Spa        VRDeck  Deck  Side  TotalSpendings  \\\n",
       "0  7.862111e-16 -3.202891e-16  2.648801e-17   0.0   0.0   -1.712653e-16   \n",
       "1  7.862111e-16 -3.202891e-16  2.648801e-17   5.0   1.0   -1.712653e-16   \n",
       "\n",
       "   SpendingStatus  Is_Single  GroupSize  \n",
       "0             0.0        0.0        0.0  \n",
       "1             1.0        1.0        2.0  "
      ]
     },
     "metadata": {},
     "output_type": "display_data"
    }
   ],
   "source": [
    "user_df=pd.DataFrame()\n",
    "num = int(input(\"Enter the number of Observations: \"))\n",
    "\n",
    "for i in range(num):\n",
    "    ui1 = {'HomePlanet':int(input(\"Enter Code [0,1,2]: \")), 'CryoSleep':int(input(\"Enter Code [0,1]: \")),\n",
    "           'Destination':int(input(\"Enter Code [0,1,2]: \")), 'Age':int(input(\"Enter Code [0,1,2,3,4]: \")), \n",
    "           'VIP':int(input(\"Enter Code [0,1]: \")), 'RoomService':X2.RoomService.mean(), 'FoodCourt':X2.FoodCourt.mean(), \n",
    "           'ShoppingMall':X2.ShoppingMall.mean(), 'Spa':X2.Spa.mean(), 'VRDeck':X2.VRDeck.mean(), \n",
    "           'Deck':int(input(\"Enter Code [0,1,2,3,4,5,6,7]: \")), 'Side':int(input(\"Enter Code [0,1]: \")), \n",
    "           'TotalSpendings':X2.TotalSpendings.mean(), 'SpendingStatus':int(input(\"Enter Code [0,1]: \")), \n",
    "           'Is_Single':int(input(\"Enter Code [0,1]: \")), 'GroupSize':int(input(\"Enter Code [0,1,2]: \"))}\n",
    "    user_df = user_df.append(ui1, ignore_index=True)\n",
    "display(user_df)"
   ]
  },
  {
   "cell_type": "code",
   "execution_count": 115,
   "id": "50d025f3",
   "metadata": {},
   "outputs": [],
   "source": [
    "# Predictions:\n",
    "# Predicting with Voting Classifire Model\n",
    "user_pred = rfc1.predict(user_df)"
   ]
  },
  {
   "cell_type": "code",
   "execution_count": 116,
   "id": "1b3835e2",
   "metadata": {},
   "outputs": [
    {
     "name": "stdout",
     "output_type": "stream",
     "text": [
      "Prediction: [0:False, 1:True]\n",
      "[0. 0.]\n"
     ]
    }
   ],
   "source": [
    "print(\"Prediction: [0:False, 1:True]\")\n",
    "print(user_pred)"
   ]
  },
  {
   "cell_type": "markdown",
   "id": "6dbfb43a",
   "metadata": {},
   "source": [
    "<hr>"
   ]
  },
  {
   "cell_type": "markdown",
   "id": "7615edf2",
   "metadata": {},
   "source": [
    "## References:\n",
    "- https://www.kaggle.com/competitions/spaceship-titanic\n",
    "- https://towardsdatascience.com/hyperparameter-tuning-the-random-forest-in-python-using-scikit-learn-28d2aa77dd74\n",
    "- https://scikit-learn.org/stable/modules/generated/sklearn.decomposition.PCA.html\n",
    "- https://scikit-learn.org/stable/modules/generated/sklearn.ensemble.RandomForestClassifier.html\n",
    "- https://scikit-learn.org/stable/modules/cross_validation.html\n",
    "- https://scikit-learn.org/stable/modules/generated/sklearn.model_selection.GridSearchCV.html"
   ]
  },
  {
   "cell_type": "markdown",
   "id": "a0e58646",
   "metadata": {},
   "source": [
    "## Conclusion/Results:\n",
    "This assignment given us the clear idea about the ML approach and the model creation with best parameters.In preprocessing the PCA, LDA, DataFrame, Visulization, ML/Analysis, libraries, datasets and various subparts of sklearn libraries, it's uses and various method to find out the hidden patterns in data and relationa between various features and data stractures. We explored the different Algorithms and model, it's hyperparameters and various parameters.\n",
    "*******************************************************************************************************************************"
   ]
  }
 ],
 "metadata": {
  "kernelspec": {
   "display_name": "Python 3 (ipykernel)",
   "language": "python",
   "name": "python3"
  },
  "language_info": {
   "codemirror_mode": {
    "name": "ipython",
    "version": 3
   },
   "file_extension": ".py",
   "mimetype": "text/x-python",
   "name": "python",
   "nbconvert_exporter": "python",
   "pygments_lexer": "ipython3",
   "version": "3.9.7"
  }
 },
 "nbformat": 4,
 "nbformat_minor": 5
}
